{
 "cells": [
  {
   "attachments": {},
   "cell_type": "markdown",
   "metadata": {},
   "source": [
    "## Start"
   ]
  },
  {
   "cell_type": "code",
   "execution_count": 11,
   "metadata": {},
   "outputs": [],
   "source": [
    "# Load dependencies\n",
    "\n",
    "import pandas as pd\n",
    "import matplotlib.pyplot as plt\n",
    "from matplotlib.colors import Normalize\n",
    "from sklearn.feature_extraction.text import CountVectorizer, TfidfVectorizer\n",
    "import numpy as np\n",
    "from sklearn.decomposition import NMF\n",
    "from sklearn.cluster import DBSCAN\n",
    "from scipy.spatial import ConvexHull\n",
    "import mpld3\n",
    "from adjustText import adjust_text\n",
    "from bokeh.plotting import figure, show, output_notebook\n",
    "from bokeh.models import HoverTool, ColumnDataSource, CategoricalColorMapper\n",
    "from bokeh.palettes import Spectral10\n",
    "from bokeh.models import Label, LabelSet\n",
    "import nltk\n",
    "from nltk import word_tokenize          \n",
    "from nltk.stem import WordNetLemmatizer \n",
    "from afinn import Afinn\n",
    "from vaderSentiment.vaderSentiment import SentimentIntensityAnalyzer\n",
    "from datetime import datetime\n",
    "import plotly.express as px"
   ]
  },
  {
   "cell_type": "code",
   "execution_count": 12,
   "metadata": {},
   "outputs": [],
   "source": [
    "# Load datasets\n",
    "\n",
    "df_2018 = pd.read_csv('/Users/annadeniz/Downloads/news_2018.csv')\n",
    "\n",
    "df_2022 = pd.read_csv('/Users/annadeniz/Downloads/news_2022.csv')"
   ]
  },
  {
   "cell_type": "code",
   "execution_count": 13,
   "metadata": {},
   "outputs": [
    {
     "data": {
      "text/html": [
       "<div>\n",
       "<style scoped>\n",
       "    .dataframe tbody tr th:only-of-type {\n",
       "        vertical-align: middle;\n",
       "    }\n",
       "\n",
       "    .dataframe tbody tr th {\n",
       "        vertical-align: top;\n",
       "    }\n",
       "\n",
       "    .dataframe thead th {\n",
       "        text-align: right;\n",
       "    }\n",
       "</style>\n",
       "<table border=\"1\" class=\"dataframe\">\n",
       "  <thead>\n",
       "    <tr style=\"text-align: right;\">\n",
       "      <th></th>\n",
       "      <th>stories_id</th>\n",
       "      <th>publish_date</th>\n",
       "      <th>title</th>\n",
       "      <th>url</th>\n",
       "      <th>language</th>\n",
       "      <th>ap_syndicated</th>\n",
       "      <th>themes</th>\n",
       "      <th>media_id</th>\n",
       "      <th>media_name</th>\n",
       "      <th>media_url</th>\n",
       "    </tr>\n",
       "  </thead>\n",
       "  <tbody>\n",
       "    <tr>\n",
       "      <th>0</th>\n",
       "      <td>1009123114</td>\n",
       "      <td>2018-10-01 14:31:06</td>\n",
       "      <td>Orange County football rushing leaders after W...</td>\n",
       "      <td>https://www.ocregister.com/2018/10/01/orange-c...</td>\n",
       "      <td>NaN</td>\n",
       "      <td>False</td>\n",
       "      <td>NaN</td>\n",
       "      <td>659381</td>\n",
       "      <td>Coast Magazine</td>\n",
       "      <td>http://www.coastmagazine.com/</td>\n",
       "    </tr>\n",
       "    <tr>\n",
       "      <th>1</th>\n",
       "      <td>1007852321</td>\n",
       "      <td>2018-10-01 00:11:02</td>\n",
       "      <td>Former Ivory Coast leader Gbagbo begins freedo...</td>\n",
       "      <td>https://www.france24.com/en/20181001-former-iv...</td>\n",
       "      <td>en</td>\n",
       "      <td>False</td>\n",
       "      <td>NaN</td>\n",
       "      <td>40606</td>\n",
       "      <td>france24-en</td>\n",
       "      <td>http://www.france24.com/en/</td>\n",
       "    </tr>\n",
       "    <tr>\n",
       "      <th>2</th>\n",
       "      <td>1010268876</td>\n",
       "      <td>2018-10-03 00:00:00</td>\n",
       "      <td>Bolsonaro obtém ligeira vantagem nas sondagens</td>\n",
       "      <td>http://jornaldeangola.sapo.ao/mundo/bolsonaro_...</td>\n",
       "      <td>pt</td>\n",
       "      <td>False</td>\n",
       "      <td>NaN</td>\n",
       "      <td>659603</td>\n",
       "      <td>El Hispano - United States - Missouri</td>\n",
       "      <td>http://www.elhispanostl.com/</td>\n",
       "    </tr>\n",
       "    <tr>\n",
       "      <th>3</th>\n",
       "      <td>1007891510</td>\n",
       "      <td>2018-10-01 02:55:00</td>\n",
       "      <td>Why Brazil's business elites are warming to a ...</td>\n",
       "      <td>https://article.wn.com/view/2018/10/01/Why_Bra...</td>\n",
       "      <td>en</td>\n",
       "      <td>False</td>\n",
       "      <td>NaN</td>\n",
       "      <td>95973</td>\n",
       "      <td>WorldNews.com</td>\n",
       "      <td>http://wn.com/#spider</td>\n",
       "    </tr>\n",
       "    <tr>\n",
       "      <th>4</th>\n",
       "      <td>1010700420</td>\n",
       "      <td>2018-10-03 11:11:56</td>\n",
       "      <td>Umstrittener Kandidat Bolsonaro: Brasiliens Fr...</td>\n",
       "      <td>http://www.spiegel.de/politik/ausland/jair-bol...</td>\n",
       "      <td>de</td>\n",
       "      <td>False</td>\n",
       "      <td>NaN</td>\n",
       "      <td>300537</td>\n",
       "      <td>International - SPIEGEL ONLINE</td>\n",
       "      <td>http://www.spiegel.de/international/</td>\n",
       "    </tr>\n",
       "  </tbody>\n",
       "</table>\n",
       "</div>"
      ],
      "text/plain": [
       "   stories_id         publish_date  \\\n",
       "0  1009123114  2018-10-01 14:31:06   \n",
       "1  1007852321  2018-10-01 00:11:02   \n",
       "2  1010268876  2018-10-03 00:00:00   \n",
       "3  1007891510  2018-10-01 02:55:00   \n",
       "4  1010700420  2018-10-03 11:11:56   \n",
       "\n",
       "                                               title  \\\n",
       "0  Orange County football rushing leaders after W...   \n",
       "1  Former Ivory Coast leader Gbagbo begins freedo...   \n",
       "2     Bolsonaro obtém ligeira vantagem nas sondagens   \n",
       "3  Why Brazil's business elites are warming to a ...   \n",
       "4  Umstrittener Kandidat Bolsonaro: Brasiliens Fr...   \n",
       "\n",
       "                                                 url language  ap_syndicated  \\\n",
       "0  https://www.ocregister.com/2018/10/01/orange-c...      NaN          False   \n",
       "1  https://www.france24.com/en/20181001-former-iv...       en          False   \n",
       "2  http://jornaldeangola.sapo.ao/mundo/bolsonaro_...       pt          False   \n",
       "3  https://article.wn.com/view/2018/10/01/Why_Bra...       en          False   \n",
       "4  http://www.spiegel.de/politik/ausland/jair-bol...       de          False   \n",
       "\n",
       "  themes  media_id                             media_name  \\\n",
       "0    NaN    659381                         Coast Magazine   \n",
       "1    NaN     40606                            france24-en   \n",
       "2    NaN    659603  El Hispano - United States - Missouri   \n",
       "3    NaN     95973                          WorldNews.com   \n",
       "4    NaN    300537         International - SPIEGEL ONLINE   \n",
       "\n",
       "                              media_url  \n",
       "0         http://www.coastmagazine.com/  \n",
       "1           http://www.france24.com/en/  \n",
       "2          http://www.elhispanostl.com/  \n",
       "3                 http://wn.com/#spider  \n",
       "4  http://www.spiegel.de/international/  "
      ]
     },
     "execution_count": 13,
     "metadata": {},
     "output_type": "execute_result"
    }
   ],
   "source": [
    "df_2018.head()"
   ]
  },
  {
   "cell_type": "code",
   "execution_count": 14,
   "metadata": {},
   "outputs": [
    {
     "data": {
      "text/html": [
       "<div>\n",
       "<style scoped>\n",
       "    .dataframe tbody tr th:only-of-type {\n",
       "        vertical-align: middle;\n",
       "    }\n",
       "\n",
       "    .dataframe tbody tr th {\n",
       "        vertical-align: top;\n",
       "    }\n",
       "\n",
       "    .dataframe thead th {\n",
       "        text-align: right;\n",
       "    }\n",
       "</style>\n",
       "<table border=\"1\" class=\"dataframe\">\n",
       "  <thead>\n",
       "    <tr style=\"text-align: right;\">\n",
       "      <th></th>\n",
       "      <th>stories_id</th>\n",
       "      <th>publish_date</th>\n",
       "      <th>title</th>\n",
       "      <th>url</th>\n",
       "      <th>language</th>\n",
       "      <th>ap_syndicated</th>\n",
       "      <th>themes</th>\n",
       "      <th>media_id</th>\n",
       "      <th>media_name</th>\n",
       "      <th>media_url</th>\n",
       "      <th>year</th>\n",
       "    </tr>\n",
       "  </thead>\n",
       "  <tbody>\n",
       "    <tr>\n",
       "      <th>0</th>\n",
       "      <td>1007852321</td>\n",
       "      <td>2018-10-01 00:11:02</td>\n",
       "      <td>Former Ivory Coast leader Gbagbo begins freedo...</td>\n",
       "      <td>https://www.france24.com/en/20181001-former-iv...</td>\n",
       "      <td>en</td>\n",
       "      <td>False</td>\n",
       "      <td>NaN</td>\n",
       "      <td>40606</td>\n",
       "      <td>france24-en</td>\n",
       "      <td>http://www.france24.com/en/</td>\n",
       "      <td>2018</td>\n",
       "    </tr>\n",
       "    <tr>\n",
       "      <th>1</th>\n",
       "      <td>1007891510</td>\n",
       "      <td>2018-10-01 02:55:00</td>\n",
       "      <td>Why Brazil's business elites are warming to a ...</td>\n",
       "      <td>https://article.wn.com/view/2018/10/01/Why_Bra...</td>\n",
       "      <td>en</td>\n",
       "      <td>False</td>\n",
       "      <td>NaN</td>\n",
       "      <td>95973</td>\n",
       "      <td>WorldNews.com</td>\n",
       "      <td>http://wn.com/#spider</td>\n",
       "      <td>2018</td>\n",
       "    </tr>\n",
       "    <tr>\n",
       "      <th>2</th>\n",
       "      <td>1008053027</td>\n",
       "      <td>2018-10-01 06:40:50</td>\n",
       "      <td>Monday US briefing: Kavanaugh investigation go...</td>\n",
       "      <td>https://www.theguardian.com/us-news/2018/oct/0...</td>\n",
       "      <td>en</td>\n",
       "      <td>False</td>\n",
       "      <td>NaN</td>\n",
       "      <td>623382</td>\n",
       "      <td>Guardian</td>\n",
       "      <td>http://www.theguardian.com/us</td>\n",
       "      <td>2018</td>\n",
       "    </tr>\n",
       "    <tr>\n",
       "      <th>3</th>\n",
       "      <td>1008079371</td>\n",
       "      <td>2018-10-01 07:13:00</td>\n",
       "      <td>How to Tackle Malnutrition In Africa By Encour...</td>\n",
       "      <td>https://www.forbes.com/sites/mfonobongnsehe/20...</td>\n",
       "      <td>en</td>\n",
       "      <td>False</td>\n",
       "      <td>NaN</td>\n",
       "      <td>1104</td>\n",
       "      <td>Forbes</td>\n",
       "      <td>http://www.forbes.com/</td>\n",
       "      <td>2018</td>\n",
       "    </tr>\n",
       "    <tr>\n",
       "      <th>4</th>\n",
       "      <td>1008153230</td>\n",
       "      <td>2018-10-01 00:00:00</td>\n",
       "      <td>The Decline and Fall of Brazil’s Political Est...</td>\n",
       "      <td>https://www.foreignaffairs.com/articles/brazil...</td>\n",
       "      <td>en</td>\n",
       "      <td>False</td>\n",
       "      <td>NaN</td>\n",
       "      <td>46603</td>\n",
       "      <td>Foreign Affairs</td>\n",
       "      <td>http://m.foreignaffairs.com/#spider</td>\n",
       "      <td>2018</td>\n",
       "    </tr>\n",
       "  </tbody>\n",
       "</table>\n",
       "</div>"
      ],
      "text/plain": [
       "   stories_id        publish_date  \\\n",
       "0  1007852321 2018-10-01 00:11:02   \n",
       "1  1007891510 2018-10-01 02:55:00   \n",
       "2  1008053027 2018-10-01 06:40:50   \n",
       "3  1008079371 2018-10-01 07:13:00   \n",
       "4  1008153230 2018-10-01 00:00:00   \n",
       "\n",
       "                                               title  \\\n",
       "0  Former Ivory Coast leader Gbagbo begins freedo...   \n",
       "1  Why Brazil's business elites are warming to a ...   \n",
       "2  Monday US briefing: Kavanaugh investigation go...   \n",
       "3  How to Tackle Malnutrition In Africa By Encour...   \n",
       "4  The Decline and Fall of Brazil’s Political Est...   \n",
       "\n",
       "                                                 url language  ap_syndicated  \\\n",
       "0  https://www.france24.com/en/20181001-former-iv...       en          False   \n",
       "1  https://article.wn.com/view/2018/10/01/Why_Bra...       en          False   \n",
       "2  https://www.theguardian.com/us-news/2018/oct/0...       en          False   \n",
       "3  https://www.forbes.com/sites/mfonobongnsehe/20...       en          False   \n",
       "4  https://www.foreignaffairs.com/articles/brazil...       en          False   \n",
       "\n",
       "  themes  media_id       media_name                            media_url  year  \n",
       "0    NaN     40606      france24-en          http://www.france24.com/en/  2018  \n",
       "1    NaN     95973    WorldNews.com                http://wn.com/#spider  2018  \n",
       "2    NaN    623382         Guardian        http://www.theguardian.com/us  2018  \n",
       "3    NaN      1104           Forbes               http://www.forbes.com/  2018  \n",
       "4    NaN     46603  Foreign Affairs  http://m.foreignaffairs.com/#spider  2018  "
      ]
     },
     "execution_count": 14,
     "metadata": {},
     "output_type": "execute_result"
    }
   ],
   "source": [
    "# Join data sets and transform date \n",
    "\n",
    "df_2018['year'] = '2018'\n",
    "\n",
    "df_2022['year'] = '2022'\n",
    "\n",
    "df = pd.concat([df_2018, df_2022])\n",
    "\n",
    "df = df.drop_duplicates(subset=[\"title\"], keep=False)\n",
    "\n",
    "df = df[df[\"language\"] == 'en'].reset_index(drop=True)\n",
    "\n",
    "df['publish_date'] = pd.to_datetime(df.publish_date, infer_datetime_format=True)\n",
    "\n",
    "df.head()"
   ]
  },
  {
   "cell_type": "code",
   "execution_count": 17,
   "metadata": {},
   "outputs": [
    {
     "data": {
      "text/html": [
       "<div>\n",
       "<style scoped>\n",
       "    .dataframe tbody tr th:only-of-type {\n",
       "        vertical-align: middle;\n",
       "    }\n",
       "\n",
       "    .dataframe tbody tr th {\n",
       "        vertical-align: top;\n",
       "    }\n",
       "\n",
       "    .dataframe thead th {\n",
       "        text-align: right;\n",
       "    }\n",
       "</style>\n",
       "<table border=\"1\" class=\"dataframe\">\n",
       "  <thead>\n",
       "    <tr style=\"text-align: right;\">\n",
       "      <th></th>\n",
       "      <th>00</th>\n",
       "      <th>000</th>\n",
       "      <th>01</th>\n",
       "      <th>02</th>\n",
       "      <th>03</th>\n",
       "      <th>032</th>\n",
       "      <th>038</th>\n",
       "      <th>039</th>\n",
       "      <th>04</th>\n",
       "      <th>05</th>\n",
       "      <th>...</th>\n",
       "      <th>zitouna</th>\n",
       "      <th>ziv</th>\n",
       "      <th>zloty</th>\n",
       "      <th>zoe</th>\n",
       "      <th>zone</th>\n",
       "      <th>ádaalnéhígíí</th>\n",
       "      <th>át</th>\n",
       "      <th>ávila</th>\n",
       "      <th>étienne</th>\n",
       "      <th>ílįįgo</th>\n",
       "    </tr>\n",
       "  </thead>\n",
       "  <tbody>\n",
       "    <tr>\n",
       "      <th>0</th>\n",
       "      <td>0</td>\n",
       "      <td>0</td>\n",
       "      <td>0</td>\n",
       "      <td>0</td>\n",
       "      <td>0</td>\n",
       "      <td>0</td>\n",
       "      <td>0</td>\n",
       "      <td>0</td>\n",
       "      <td>0</td>\n",
       "      <td>0</td>\n",
       "      <td>...</td>\n",
       "      <td>0</td>\n",
       "      <td>0</td>\n",
       "      <td>0</td>\n",
       "      <td>0</td>\n",
       "      <td>0</td>\n",
       "      <td>0</td>\n",
       "      <td>0</td>\n",
       "      <td>0</td>\n",
       "      <td>0</td>\n",
       "      <td>0</td>\n",
       "    </tr>\n",
       "    <tr>\n",
       "      <th>1</th>\n",
       "      <td>0</td>\n",
       "      <td>0</td>\n",
       "      <td>0</td>\n",
       "      <td>0</td>\n",
       "      <td>0</td>\n",
       "      <td>0</td>\n",
       "      <td>0</td>\n",
       "      <td>0</td>\n",
       "      <td>0</td>\n",
       "      <td>0</td>\n",
       "      <td>...</td>\n",
       "      <td>0</td>\n",
       "      <td>0</td>\n",
       "      <td>0</td>\n",
       "      <td>0</td>\n",
       "      <td>0</td>\n",
       "      <td>0</td>\n",
       "      <td>0</td>\n",
       "      <td>0</td>\n",
       "      <td>0</td>\n",
       "      <td>0</td>\n",
       "    </tr>\n",
       "    <tr>\n",
       "      <th>2</th>\n",
       "      <td>0</td>\n",
       "      <td>0</td>\n",
       "      <td>0</td>\n",
       "      <td>0</td>\n",
       "      <td>0</td>\n",
       "      <td>0</td>\n",
       "      <td>0</td>\n",
       "      <td>0</td>\n",
       "      <td>0</td>\n",
       "      <td>0</td>\n",
       "      <td>...</td>\n",
       "      <td>0</td>\n",
       "      <td>0</td>\n",
       "      <td>0</td>\n",
       "      <td>0</td>\n",
       "      <td>0</td>\n",
       "      <td>0</td>\n",
       "      <td>0</td>\n",
       "      <td>0</td>\n",
       "      <td>0</td>\n",
       "      <td>0</td>\n",
       "    </tr>\n",
       "    <tr>\n",
       "      <th>3</th>\n",
       "      <td>0</td>\n",
       "      <td>0</td>\n",
       "      <td>0</td>\n",
       "      <td>0</td>\n",
       "      <td>0</td>\n",
       "      <td>0</td>\n",
       "      <td>0</td>\n",
       "      <td>0</td>\n",
       "      <td>0</td>\n",
       "      <td>0</td>\n",
       "      <td>...</td>\n",
       "      <td>0</td>\n",
       "      <td>0</td>\n",
       "      <td>0</td>\n",
       "      <td>0</td>\n",
       "      <td>0</td>\n",
       "      <td>0</td>\n",
       "      <td>0</td>\n",
       "      <td>0</td>\n",
       "      <td>0</td>\n",
       "      <td>0</td>\n",
       "    </tr>\n",
       "    <tr>\n",
       "      <th>4</th>\n",
       "      <td>0</td>\n",
       "      <td>0</td>\n",
       "      <td>0</td>\n",
       "      <td>0</td>\n",
       "      <td>0</td>\n",
       "      <td>0</td>\n",
       "      <td>0</td>\n",
       "      <td>0</td>\n",
       "      <td>0</td>\n",
       "      <td>0</td>\n",
       "      <td>...</td>\n",
       "      <td>0</td>\n",
       "      <td>0</td>\n",
       "      <td>0</td>\n",
       "      <td>0</td>\n",
       "      <td>0</td>\n",
       "      <td>0</td>\n",
       "      <td>0</td>\n",
       "      <td>0</td>\n",
       "      <td>0</td>\n",
       "      <td>0</td>\n",
       "    </tr>\n",
       "    <tr>\n",
       "      <th>...</th>\n",
       "      <td>...</td>\n",
       "      <td>...</td>\n",
       "      <td>...</td>\n",
       "      <td>...</td>\n",
       "      <td>...</td>\n",
       "      <td>...</td>\n",
       "      <td>...</td>\n",
       "      <td>...</td>\n",
       "      <td>...</td>\n",
       "      <td>...</td>\n",
       "      <td>...</td>\n",
       "      <td>...</td>\n",
       "      <td>...</td>\n",
       "      <td>...</td>\n",
       "      <td>...</td>\n",
       "      <td>...</td>\n",
       "      <td>...</td>\n",
       "      <td>...</td>\n",
       "      <td>...</td>\n",
       "      <td>...</td>\n",
       "      <td>...</td>\n",
       "    </tr>\n",
       "    <tr>\n",
       "      <th>3568</th>\n",
       "      <td>0</td>\n",
       "      <td>0</td>\n",
       "      <td>0</td>\n",
       "      <td>0</td>\n",
       "      <td>0</td>\n",
       "      <td>0</td>\n",
       "      <td>0</td>\n",
       "      <td>0</td>\n",
       "      <td>0</td>\n",
       "      <td>0</td>\n",
       "      <td>...</td>\n",
       "      <td>0</td>\n",
       "      <td>0</td>\n",
       "      <td>0</td>\n",
       "      <td>0</td>\n",
       "      <td>0</td>\n",
       "      <td>0</td>\n",
       "      <td>0</td>\n",
       "      <td>0</td>\n",
       "      <td>0</td>\n",
       "      <td>0</td>\n",
       "    </tr>\n",
       "    <tr>\n",
       "      <th>3569</th>\n",
       "      <td>0</td>\n",
       "      <td>0</td>\n",
       "      <td>0</td>\n",
       "      <td>0</td>\n",
       "      <td>0</td>\n",
       "      <td>0</td>\n",
       "      <td>0</td>\n",
       "      <td>0</td>\n",
       "      <td>0</td>\n",
       "      <td>0</td>\n",
       "      <td>...</td>\n",
       "      <td>0</td>\n",
       "      <td>0</td>\n",
       "      <td>0</td>\n",
       "      <td>0</td>\n",
       "      <td>0</td>\n",
       "      <td>0</td>\n",
       "      <td>0</td>\n",
       "      <td>0</td>\n",
       "      <td>0</td>\n",
       "      <td>0</td>\n",
       "    </tr>\n",
       "    <tr>\n",
       "      <th>3570</th>\n",
       "      <td>0</td>\n",
       "      <td>0</td>\n",
       "      <td>0</td>\n",
       "      <td>0</td>\n",
       "      <td>0</td>\n",
       "      <td>0</td>\n",
       "      <td>0</td>\n",
       "      <td>0</td>\n",
       "      <td>0</td>\n",
       "      <td>0</td>\n",
       "      <td>...</td>\n",
       "      <td>0</td>\n",
       "      <td>0</td>\n",
       "      <td>0</td>\n",
       "      <td>0</td>\n",
       "      <td>0</td>\n",
       "      <td>0</td>\n",
       "      <td>0</td>\n",
       "      <td>0</td>\n",
       "      <td>0</td>\n",
       "      <td>0</td>\n",
       "    </tr>\n",
       "    <tr>\n",
       "      <th>3571</th>\n",
       "      <td>0</td>\n",
       "      <td>0</td>\n",
       "      <td>0</td>\n",
       "      <td>0</td>\n",
       "      <td>0</td>\n",
       "      <td>0</td>\n",
       "      <td>0</td>\n",
       "      <td>0</td>\n",
       "      <td>0</td>\n",
       "      <td>0</td>\n",
       "      <td>...</td>\n",
       "      <td>0</td>\n",
       "      <td>0</td>\n",
       "      <td>0</td>\n",
       "      <td>0</td>\n",
       "      <td>0</td>\n",
       "      <td>0</td>\n",
       "      <td>0</td>\n",
       "      <td>0</td>\n",
       "      <td>0</td>\n",
       "      <td>0</td>\n",
       "    </tr>\n",
       "    <tr>\n",
       "      <th>3572</th>\n",
       "      <td>0</td>\n",
       "      <td>0</td>\n",
       "      <td>0</td>\n",
       "      <td>0</td>\n",
       "      <td>0</td>\n",
       "      <td>0</td>\n",
       "      <td>0</td>\n",
       "      <td>0</td>\n",
       "      <td>0</td>\n",
       "      <td>0</td>\n",
       "      <td>...</td>\n",
       "      <td>0</td>\n",
       "      <td>0</td>\n",
       "      <td>0</td>\n",
       "      <td>0</td>\n",
       "      <td>0</td>\n",
       "      <td>0</td>\n",
       "      <td>0</td>\n",
       "      <td>0</td>\n",
       "      <td>0</td>\n",
       "      <td>0</td>\n",
       "    </tr>\n",
       "  </tbody>\n",
       "</table>\n",
       "<p>3573 rows × 6093 columns</p>\n",
       "</div>"
      ],
      "text/plain": [
       "      00  000  01  02  03  032  038  039  04  05  ...  zitouna  ziv  zloty  \\\n",
       "0      0    0   0   0   0    0    0    0   0   0  ...        0    0      0   \n",
       "1      0    0   0   0   0    0    0    0   0   0  ...        0    0      0   \n",
       "2      0    0   0   0   0    0    0    0   0   0  ...        0    0      0   \n",
       "3      0    0   0   0   0    0    0    0   0   0  ...        0    0      0   \n",
       "4      0    0   0   0   0    0    0    0   0   0  ...        0    0      0   \n",
       "...   ..  ...  ..  ..  ..  ...  ...  ...  ..  ..  ...      ...  ...    ...   \n",
       "3568   0    0   0   0   0    0    0    0   0   0  ...        0    0      0   \n",
       "3569   0    0   0   0   0    0    0    0   0   0  ...        0    0      0   \n",
       "3570   0    0   0   0   0    0    0    0   0   0  ...        0    0      0   \n",
       "3571   0    0   0   0   0    0    0    0   0   0  ...        0    0      0   \n",
       "3572   0    0   0   0   0    0    0    0   0   0  ...        0    0      0   \n",
       "\n",
       "      zoe  zone  ádaalnéhígíí  át  ávila  étienne  ílįįgo  \n",
       "0       0     0             0   0      0        0       0  \n",
       "1       0     0             0   0      0        0       0  \n",
       "2       0     0             0   0      0        0       0  \n",
       "3       0     0             0   0      0        0       0  \n",
       "4       0     0             0   0      0        0       0  \n",
       "...   ...   ...           ...  ..    ...      ...     ...  \n",
       "3568    0     0             0   0      0        0       0  \n",
       "3569    0     0             0   0      0        0       0  \n",
       "3570    0     0             0   0      0        0       0  \n",
       "3571    0     0             0   0      0        0       0  \n",
       "3572    0     0             0   0      0        0       0  \n",
       "\n",
       "[3573 rows x 6093 columns]"
      ]
     },
     "execution_count": 17,
     "metadata": {},
     "output_type": "execute_result"
    }
   ],
   "source": [
    "def lemma_tokenizer(str_input):\n",
    "    default_tokenizer = CountVectorizer().build_tokenizer()\n",
    "    tokens = default_tokenizer(str_input)\n",
    "    #stopwords.extend(['luiz','inácio','da','silva','lula','new','news','say','jair','bolsonaro','president','brazil','election','brazilian','presidency','presidential','ap','edt','est','oct','ibd','u'])\n",
    "    tokens = [WordNetLemmatizer().lemmatize(token) for token in tokens]\n",
    "    return tokens\n",
    "\n",
    "import re\n",
    "def preprocess_text(text):\n",
    "    text = text.lower()\n",
    "    text = re.sub(r'\\d+', '', text)\n",
    "    return text\n",
    "\n",
    "vec = CountVectorizer()\n",
    "\n",
    "X = vec.fit_transform(df.title)\n",
    "\n",
    "dfm = pd.DataFrame(X.toarray(), columns=vec.get_feature_names_out(), index=df.index)\n",
    "\n",
    "dfm"
   ]
  },
  {
   "attachments": {},
   "cell_type": "markdown",
   "metadata": {},
   "source": [
    "## Create topic model"
   ]
  },
  {
   "cell_type": "code",
   "execution_count": 18,
   "metadata": {},
   "outputs": [],
   "source": [
    "# Create a topic model using data\n",
    "\n",
    "nmf = NMF(5,random_state=42)\n",
    "W = nmf.fit_transform(dfm)"
   ]
  },
  {
   "cell_type": "code",
   "execution_count": 19,
   "metadata": {},
   "outputs": [],
   "source": [
    "# Get words and corresponding weights resulting from the topic model in a table\n",
    "\n",
    "def display_topics(model, feature_names, no_top_words):\n",
    "    topic_dict = {}\n",
    "    for topic_idx, topic in enumerate(model.components_):\n",
    "        topic_dict[\"Topic %d words\" % (topic_idx)]= ['{}'.format(feature_names[i])\n",
    "                        for i in topic.argsort()[:-no_top_words - 1:-1]]\n",
    "        topic_dict[\"Topic %d weights\" % (topic_idx)]= ['{:.1f}'.format(topic[i])\n",
    "                        for i in topic.argsort()[:-no_top_words - 1:-1]]\n",
    "    \n",
    "    return pd.DataFrame(topic_dict)"
   ]
  },
  {
   "cell_type": "code",
   "execution_count": 20,
   "metadata": {},
   "outputs": [
    {
     "data": {
      "text/html": [
       "<div>\n",
       "<style scoped>\n",
       "    .dataframe tbody tr th:only-of-type {\n",
       "        vertical-align: middle;\n",
       "    }\n",
       "\n",
       "    .dataframe tbody tr th {\n",
       "        vertical-align: top;\n",
       "    }\n",
       "\n",
       "    .dataframe thead th {\n",
       "        text-align: right;\n",
       "    }\n",
       "</style>\n",
       "<table border=\"1\" class=\"dataframe\">\n",
       "  <thead>\n",
       "    <tr style=\"text-align: right;\">\n",
       "      <th></th>\n",
       "      <th>Topic 0 words</th>\n",
       "      <th>Topic 0 weights</th>\n",
       "      <th>Topic 1 words</th>\n",
       "      <th>Topic 1 weights</th>\n",
       "      <th>Topic 2 words</th>\n",
       "      <th>Topic 2 weights</th>\n",
       "      <th>Topic 3 words</th>\n",
       "      <th>Topic 3 weights</th>\n",
       "      <th>Topic 4 words</th>\n",
       "      <th>Topic 4 weights</th>\n",
       "    </tr>\n",
       "  </thead>\n",
       "  <tbody>\n",
       "    <tr>\n",
       "      <th>0</th>\n",
       "      <td>brazil</td>\n",
       "      <td>6.0</td>\n",
       "      <td>the</td>\n",
       "      <td>5.2</td>\n",
       "      <td>to</td>\n",
       "      <td>5.7</td>\n",
       "      <td>at</td>\n",
       "      <td>2.7</td>\n",
       "      <td>in</td>\n",
       "      <td>5.6</td>\n",
       "    </tr>\n",
       "    <tr>\n",
       "      <th>1</th>\n",
       "      <td>bolsonaro</td>\n",
       "      <td>4.1</td>\n",
       "      <td>of</td>\n",
       "      <td>1.8</td>\n",
       "      <td>lula</td>\n",
       "      <td>0.3</td>\n",
       "      <td>news</td>\n",
       "      <td>2.5</td>\n",
       "      <td>lula</td>\n",
       "      <td>0.7</td>\n",
       "    </tr>\n",
       "    <tr>\n",
       "      <th>2</th>\n",
       "      <td>election</td>\n",
       "      <td>1.8</td>\n",
       "      <td>and</td>\n",
       "      <td>0.9</td>\n",
       "      <td>trump</td>\n",
       "      <td>0.2</td>\n",
       "      <td>ap</td>\n",
       "      <td>2.2</td>\n",
       "      <td>and</td>\n",
       "      <td>0.5</td>\n",
       "    </tr>\n",
       "    <tr>\n",
       "      <th>3</th>\n",
       "      <td>lula</td>\n",
       "      <td>1.4</td>\n",
       "      <td>for</td>\n",
       "      <td>0.7</td>\n",
       "      <td>brazil</td>\n",
       "      <td>0.2</td>\n",
       "      <td>summary</td>\n",
       "      <td>2.2</td>\n",
       "      <td>brazil</td>\n",
       "      <td>0.3</td>\n",
       "    </tr>\n",
       "    <tr>\n",
       "      <th>4</th>\n",
       "      <td>right</td>\n",
       "      <td>1.0</td>\n",
       "      <td>is</td>\n",
       "      <td>0.6</td>\n",
       "      <td>know</td>\n",
       "      <td>0.2</td>\n",
       "      <td>edt</td>\n",
       "      <td>2.0</td>\n",
       "      <td>election</td>\n",
       "      <td>0.3</td>\n",
       "    </tr>\n",
       "    <tr>\n",
       "      <th>5</th>\n",
       "      <td>presidential</td>\n",
       "      <td>0.9</td>\n",
       "      <td>world</td>\n",
       "      <td>0.5</td>\n",
       "      <td>as</td>\n",
       "      <td>0.2</td>\n",
       "      <td>11</td>\n",
       "      <td>0.4</td>\n",
       "      <td>brazilian</td>\n",
       "      <td>0.3</td>\n",
       "    </tr>\n",
       "    <tr>\n",
       "      <th>6</th>\n",
       "      <td>far</td>\n",
       "      <td>0.8</td>\n",
       "      <td>amazon</td>\n",
       "      <td>0.4</td>\n",
       "      <td>it</td>\n",
       "      <td>0.2</td>\n",
       "      <td>12</td>\n",
       "      <td>0.3</td>\n",
       "      <td>presidential</td>\n",
       "      <td>0.3</td>\n",
       "    </tr>\n",
       "    <tr>\n",
       "      <th>7</th>\n",
       "      <td>of</td>\n",
       "      <td>0.8</td>\n",
       "      <td>on</td>\n",
       "      <td>0.4</td>\n",
       "      <td>president</td>\n",
       "      <td>0.2</td>\n",
       "      <td>10</td>\n",
       "      <td>0.3</td>\n",
       "      <td>vote</td>\n",
       "      <td>0.2</td>\n",
       "    </tr>\n",
       "    <tr>\n",
       "      <th>8</th>\n",
       "      <td>for</td>\n",
       "      <td>0.7</td>\n",
       "      <td>trump</td>\n",
       "      <td>0.4</td>\n",
       "      <td>win</td>\n",
       "      <td>0.2</td>\n",
       "      <td>est</td>\n",
       "      <td>0.2</td>\n",
       "      <td>for</td>\n",
       "      <td>0.2</td>\n",
       "    </tr>\n",
       "    <tr>\n",
       "      <th>9</th>\n",
       "      <td>jair</td>\n",
       "      <td>0.7</td>\n",
       "      <td>new</td>\n",
       "      <td>0.2</td>\n",
       "      <td>from</td>\n",
       "      <td>0.2</td>\n",
       "      <td>17</td>\n",
       "      <td>0.1</td>\n",
       "      <td>silva</td>\n",
       "      <td>0.2</td>\n",
       "    </tr>\n",
       "    <tr>\n",
       "      <th>10</th>\n",
       "      <td>as</td>\n",
       "      <td>0.6</td>\n",
       "      <td>climate</td>\n",
       "      <td>0.2</td>\n",
       "      <td>you</td>\n",
       "      <td>0.2</td>\n",
       "      <td>29</td>\n",
       "      <td>0.1</td>\n",
       "      <td>da</td>\n",
       "      <td>0.2</td>\n",
       "    </tr>\n",
       "    <tr>\n",
       "      <th>11</th>\n",
       "      <td>president</td>\n",
       "      <td>0.6</td>\n",
       "      <td>president</td>\n",
       "      <td>0.2</td>\n",
       "      <td>climate</td>\n",
       "      <td>0.1</td>\n",
       "      <td>02</td>\n",
       "      <td>0.1</td>\n",
       "      <td>is</td>\n",
       "      <td>0.2</td>\n",
       "    </tr>\n",
       "    <tr>\n",
       "      <th>12</th>\n",
       "      <td>on</td>\n",
       "      <td>0.5</td>\n",
       "      <td>brazilian</td>\n",
       "      <td>0.2</td>\n",
       "      <td>says</td>\n",
       "      <td>0.1</td>\n",
       "      <td>20</td>\n",
       "      <td>0.1</td>\n",
       "      <td>democracy</td>\n",
       "      <td>0.2</td>\n",
       "    </tr>\n",
       "    <tr>\n",
       "      <th>13</th>\n",
       "      <td>candidate</td>\n",
       "      <td>0.5</td>\n",
       "      <td>right</td>\n",
       "      <td>0.2</td>\n",
       "      <td>be</td>\n",
       "      <td>0.1</td>\n",
       "      <td>18</td>\n",
       "      <td>0.1</td>\n",
       "      <td>victory</td>\n",
       "      <td>0.1</td>\n",
       "    </tr>\n",
       "    <tr>\n",
       "      <th>14</th>\n",
       "      <td>with</td>\n",
       "      <td>0.5</td>\n",
       "      <td>8217</td>\n",
       "      <td>0.2</td>\n",
       "      <td>he</td>\n",
       "      <td>0.1</td>\n",
       "      <td>16</td>\n",
       "      <td>0.1</td>\n",
       "      <td>face</td>\n",
       "      <td>0.1</td>\n",
       "    </tr>\n",
       "  </tbody>\n",
       "</table>\n",
       "</div>"
      ],
      "text/plain": [
       "   Topic 0 words Topic 0 weights Topic 1 words Topic 1 weights Topic 2 words  \\\n",
       "0         brazil             6.0           the             5.2            to   \n",
       "1      bolsonaro             4.1            of             1.8          lula   \n",
       "2       election             1.8           and             0.9         trump   \n",
       "3           lula             1.4           for             0.7        brazil   \n",
       "4          right             1.0            is             0.6          know   \n",
       "5   presidential             0.9         world             0.5            as   \n",
       "6            far             0.8        amazon             0.4            it   \n",
       "7             of             0.8            on             0.4     president   \n",
       "8            for             0.7         trump             0.4           win   \n",
       "9           jair             0.7           new             0.2          from   \n",
       "10            as             0.6       climate             0.2           you   \n",
       "11     president             0.6     president             0.2       climate   \n",
       "12            on             0.5     brazilian             0.2          says   \n",
       "13     candidate             0.5         right             0.2            be   \n",
       "14          with             0.5          8217             0.2            he   \n",
       "\n",
       "   Topic 2 weights Topic 3 words Topic 3 weights Topic 4 words Topic 4 weights  \n",
       "0              5.7            at             2.7            in             5.6  \n",
       "1              0.3          news             2.5          lula             0.7  \n",
       "2              0.2            ap             2.2           and             0.5  \n",
       "3              0.2       summary             2.2        brazil             0.3  \n",
       "4              0.2           edt             2.0      election             0.3  \n",
       "5              0.2            11             0.4     brazilian             0.3  \n",
       "6              0.2            12             0.3  presidential             0.3  \n",
       "7              0.2            10             0.3          vote             0.2  \n",
       "8              0.2           est             0.2           for             0.2  \n",
       "9              0.2            17             0.1         silva             0.2  \n",
       "10             0.2            29             0.1            da             0.2  \n",
       "11             0.1            02             0.1            is             0.2  \n",
       "12             0.1            20             0.1     democracy             0.2  \n",
       "13             0.1            18             0.1       victory             0.1  \n",
       "14             0.1            16             0.1          face             0.1  "
      ]
     },
     "execution_count": 20,
     "metadata": {},
     "output_type": "execute_result"
    }
   ],
   "source": [
    "# Get name of each title: augment the number of words per topic and base it on the results \n",
    "\n",
    "no_top_words = 15\n",
    "\n",
    "display_topics(nmf, vec.get_feature_names_out(), no_top_words)"
   ]
  },
  {
   "cell_type": "code",
   "execution_count": 21,
   "metadata": {},
   "outputs": [],
   "source": [
    "# Title dictionary\n",
    "\n",
    "topics={0:\"Far right\", 1: \"Donald Trump\", 2: \"Emerging stock markets\", 3: \"Election results\", 4:\"World climate\"}"
   ]
  },
  {
   "cell_type": "code",
   "execution_count": 22,
   "metadata": {},
   "outputs": [
    {
     "data": {
      "text/html": [
       "<div>\n",
       "<style scoped>\n",
       "    .dataframe tbody tr th:only-of-type {\n",
       "        vertical-align: middle;\n",
       "    }\n",
       "\n",
       "    .dataframe tbody tr th {\n",
       "        vertical-align: top;\n",
       "    }\n",
       "\n",
       "    .dataframe thead th {\n",
       "        text-align: right;\n",
       "    }\n",
       "</style>\n",
       "<table border=\"1\" class=\"dataframe\">\n",
       "  <thead>\n",
       "    <tr style=\"text-align: right;\">\n",
       "      <th></th>\n",
       "      <th>0</th>\n",
       "      <th>1</th>\n",
       "      <th>2</th>\n",
       "      <th>3</th>\n",
       "      <th>4</th>\n",
       "    </tr>\n",
       "  </thead>\n",
       "  <tbody>\n",
       "    <tr>\n",
       "      <th>0</th>\n",
       "      <td>0.002759</td>\n",
       "      <td>0.002458</td>\n",
       "      <td>0.000323</td>\n",
       "      <td>0.000271</td>\n",
       "      <td>0.003435</td>\n",
       "    </tr>\n",
       "    <tr>\n",
       "      <th>1</th>\n",
       "      <td>0.131057</td>\n",
       "      <td>0.023795</td>\n",
       "      <td>0.175554</td>\n",
       "      <td>0.000000</td>\n",
       "      <td>0.000000</td>\n",
       "    </tr>\n",
       "    <tr>\n",
       "      <th>2</th>\n",
       "      <td>0.007763</td>\n",
       "      <td>0.008622</td>\n",
       "      <td>0.005471</td>\n",
       "      <td>0.001192</td>\n",
       "      <td>0.000000</td>\n",
       "    </tr>\n",
       "    <tr>\n",
       "      <th>3</th>\n",
       "      <td>0.000000</td>\n",
       "      <td>0.000000</td>\n",
       "      <td>0.169271</td>\n",
       "      <td>0.000000</td>\n",
       "      <td>0.168502</td>\n",
       "    </tr>\n",
       "    <tr>\n",
       "      <th>4</th>\n",
       "      <td>0.094302</td>\n",
       "      <td>0.231837</td>\n",
       "      <td>0.000000</td>\n",
       "      <td>0.000000</td>\n",
       "      <td>0.007236</td>\n",
       "    </tr>\n",
       "  </tbody>\n",
       "</table>\n",
       "</div>"
      ],
      "text/plain": [
       "          0         1         2         3         4\n",
       "0  0.002759  0.002458  0.000323  0.000271  0.003435\n",
       "1  0.131057  0.023795  0.175554  0.000000  0.000000\n",
       "2  0.007763  0.008622  0.005471  0.001192  0.000000\n",
       "3  0.000000  0.000000  0.169271  0.000000  0.168502\n",
       "4  0.094302  0.231837  0.000000  0.000000  0.007236"
      ]
     },
     "execution_count": 22,
     "metadata": {},
     "output_type": "execute_result"
    }
   ],
   "source": [
    "# Create df with topics\n",
    "\n",
    "df_w = pd.DataFrame(W)\n",
    "\n",
    "df_w.head()"
   ]
  },
  {
   "cell_type": "code",
   "execution_count": 23,
   "metadata": {},
   "outputs": [
    {
     "data": {
      "text/html": [
       "<div>\n",
       "<style scoped>\n",
       "    .dataframe tbody tr th:only-of-type {\n",
       "        vertical-align: middle;\n",
       "    }\n",
       "\n",
       "    .dataframe tbody tr th {\n",
       "        vertical-align: top;\n",
       "    }\n",
       "\n",
       "    .dataframe thead th {\n",
       "        text-align: right;\n",
       "    }\n",
       "</style>\n",
       "<table border=\"1\" class=\"dataframe\">\n",
       "  <thead>\n",
       "    <tr style=\"text-align: right;\">\n",
       "      <th></th>\n",
       "      <th>stories_id</th>\n",
       "      <th>publish_date</th>\n",
       "      <th>title</th>\n",
       "      <th>url</th>\n",
       "      <th>language</th>\n",
       "      <th>ap_syndicated</th>\n",
       "      <th>themes</th>\n",
       "      <th>media_id</th>\n",
       "      <th>media_name</th>\n",
       "      <th>media_url</th>\n",
       "      <th>year</th>\n",
       "      <th>0</th>\n",
       "      <th>1</th>\n",
       "      <th>2</th>\n",
       "      <th>3</th>\n",
       "      <th>4</th>\n",
       "    </tr>\n",
       "  </thead>\n",
       "  <tbody>\n",
       "    <tr>\n",
       "      <th>0</th>\n",
       "      <td>1007852321</td>\n",
       "      <td>2018-10-01 00:11:02</td>\n",
       "      <td>Former Ivory Coast leader Gbagbo begins freedo...</td>\n",
       "      <td>https://www.france24.com/en/20181001-former-iv...</td>\n",
       "      <td>en</td>\n",
       "      <td>False</td>\n",
       "      <td>NaN</td>\n",
       "      <td>40606</td>\n",
       "      <td>france24-en</td>\n",
       "      <td>http://www.france24.com/en/</td>\n",
       "      <td>2018</td>\n",
       "      <td>0.002759</td>\n",
       "      <td>0.002458</td>\n",
       "      <td>0.000323</td>\n",
       "      <td>0.000271</td>\n",
       "      <td>0.003435</td>\n",
       "    </tr>\n",
       "    <tr>\n",
       "      <th>1</th>\n",
       "      <td>1007891510</td>\n",
       "      <td>2018-10-01 02:55:00</td>\n",
       "      <td>Why Brazil's business elites are warming to a ...</td>\n",
       "      <td>https://article.wn.com/view/2018/10/01/Why_Bra...</td>\n",
       "      <td>en</td>\n",
       "      <td>False</td>\n",
       "      <td>NaN</td>\n",
       "      <td>95973</td>\n",
       "      <td>WorldNews.com</td>\n",
       "      <td>http://wn.com/#spider</td>\n",
       "      <td>2018</td>\n",
       "      <td>0.131057</td>\n",
       "      <td>0.023795</td>\n",
       "      <td>0.175554</td>\n",
       "      <td>0.000000</td>\n",
       "      <td>0.000000</td>\n",
       "    </tr>\n",
       "    <tr>\n",
       "      <th>2</th>\n",
       "      <td>1008053027</td>\n",
       "      <td>2018-10-01 06:40:50</td>\n",
       "      <td>Monday US briefing: Kavanaugh investigation go...</td>\n",
       "      <td>https://www.theguardian.com/us-news/2018/oct/0...</td>\n",
       "      <td>en</td>\n",
       "      <td>False</td>\n",
       "      <td>NaN</td>\n",
       "      <td>623382</td>\n",
       "      <td>Guardian</td>\n",
       "      <td>http://www.theguardian.com/us</td>\n",
       "      <td>2018</td>\n",
       "      <td>0.007763</td>\n",
       "      <td>0.008622</td>\n",
       "      <td>0.005471</td>\n",
       "      <td>0.001192</td>\n",
       "      <td>0.000000</td>\n",
       "    </tr>\n",
       "    <tr>\n",
       "      <th>3</th>\n",
       "      <td>1008079371</td>\n",
       "      <td>2018-10-01 07:13:00</td>\n",
       "      <td>How to Tackle Malnutrition In Africa By Encour...</td>\n",
       "      <td>https://www.forbes.com/sites/mfonobongnsehe/20...</td>\n",
       "      <td>en</td>\n",
       "      <td>False</td>\n",
       "      <td>NaN</td>\n",
       "      <td>1104</td>\n",
       "      <td>Forbes</td>\n",
       "      <td>http://www.forbes.com/</td>\n",
       "      <td>2018</td>\n",
       "      <td>0.000000</td>\n",
       "      <td>0.000000</td>\n",
       "      <td>0.169271</td>\n",
       "      <td>0.000000</td>\n",
       "      <td>0.168502</td>\n",
       "    </tr>\n",
       "    <tr>\n",
       "      <th>4</th>\n",
       "      <td>1008153230</td>\n",
       "      <td>2018-10-01 00:00:00</td>\n",
       "      <td>The Decline and Fall of Brazil’s Political Est...</td>\n",
       "      <td>https://www.foreignaffairs.com/articles/brazil...</td>\n",
       "      <td>en</td>\n",
       "      <td>False</td>\n",
       "      <td>NaN</td>\n",
       "      <td>46603</td>\n",
       "      <td>Foreign Affairs</td>\n",
       "      <td>http://m.foreignaffairs.com/#spider</td>\n",
       "      <td>2018</td>\n",
       "      <td>0.094302</td>\n",
       "      <td>0.231837</td>\n",
       "      <td>0.000000</td>\n",
       "      <td>0.000000</td>\n",
       "      <td>0.007236</td>\n",
       "    </tr>\n",
       "  </tbody>\n",
       "</table>\n",
       "</div>"
      ],
      "text/plain": [
       "   stories_id        publish_date  \\\n",
       "0  1007852321 2018-10-01 00:11:02   \n",
       "1  1007891510 2018-10-01 02:55:00   \n",
       "2  1008053027 2018-10-01 06:40:50   \n",
       "3  1008079371 2018-10-01 07:13:00   \n",
       "4  1008153230 2018-10-01 00:00:00   \n",
       "\n",
       "                                               title  \\\n",
       "0  Former Ivory Coast leader Gbagbo begins freedo...   \n",
       "1  Why Brazil's business elites are warming to a ...   \n",
       "2  Monday US briefing: Kavanaugh investigation go...   \n",
       "3  How to Tackle Malnutrition In Africa By Encour...   \n",
       "4  The Decline and Fall of Brazil’s Political Est...   \n",
       "\n",
       "                                                 url language  ap_syndicated  \\\n",
       "0  https://www.france24.com/en/20181001-former-iv...       en          False   \n",
       "1  https://article.wn.com/view/2018/10/01/Why_Bra...       en          False   \n",
       "2  https://www.theguardian.com/us-news/2018/oct/0...       en          False   \n",
       "3  https://www.forbes.com/sites/mfonobongnsehe/20...       en          False   \n",
       "4  https://www.foreignaffairs.com/articles/brazil...       en          False   \n",
       "\n",
       "  themes  media_id       media_name                            media_url  \\\n",
       "0    NaN     40606      france24-en          http://www.france24.com/en/   \n",
       "1    NaN     95973    WorldNews.com                http://wn.com/#spider   \n",
       "2    NaN    623382         Guardian        http://www.theguardian.com/us   \n",
       "3    NaN      1104           Forbes               http://www.forbes.com/   \n",
       "4    NaN     46603  Foreign Affairs  http://m.foreignaffairs.com/#spider   \n",
       "\n",
       "   year         0         1         2         3         4  \n",
       "0  2018  0.002759  0.002458  0.000323  0.000271  0.003435  \n",
       "1  2018  0.131057  0.023795  0.175554  0.000000  0.000000  \n",
       "2  2018  0.007763  0.008622  0.005471  0.001192  0.000000  \n",
       "3  2018  0.000000  0.000000  0.169271  0.000000  0.168502  \n",
       "4  2018  0.094302  0.231837  0.000000  0.000000  0.007236  "
      ]
     },
     "execution_count": 23,
     "metadata": {},
     "output_type": "execute_result"
    }
   ],
   "source": [
    "# Merge df with topics df\n",
    "\n",
    "topics_df = pd.concat([df,df_w], axis=1)\n",
    "\n",
    "topics_df.head()"
   ]
  },
  {
   "attachments": {},
   "cell_type": "markdown",
   "metadata": {},
   "source": [
    "## Sentiments"
   ]
  },
  {
   "cell_type": "code",
   "execution_count": 24,
   "metadata": {},
   "outputs": [
    {
     "data": {
      "text/html": [
       "<div>\n",
       "<style scoped>\n",
       "    .dataframe tbody tr th:only-of-type {\n",
       "        vertical-align: middle;\n",
       "    }\n",
       "\n",
       "    .dataframe tbody tr th {\n",
       "        vertical-align: top;\n",
       "    }\n",
       "\n",
       "    .dataframe thead th {\n",
       "        text-align: right;\n",
       "    }\n",
       "</style>\n",
       "<table border=\"1\" class=\"dataframe\">\n",
       "  <thead>\n",
       "    <tr style=\"text-align: right;\">\n",
       "      <th></th>\n",
       "      <th>neg</th>\n",
       "      <th>neu</th>\n",
       "      <th>pos</th>\n",
       "      <th>compound</th>\n",
       "    </tr>\n",
       "  </thead>\n",
       "  <tbody>\n",
       "    <tr>\n",
       "      <th>0</th>\n",
       "      <td>0.0</td>\n",
       "      <td>0.682</td>\n",
       "      <td>0.318</td>\n",
       "      <td>0.6369</td>\n",
       "    </tr>\n",
       "    <tr>\n",
       "      <th>1</th>\n",
       "      <td>0.0</td>\n",
       "      <td>0.873</td>\n",
       "      <td>0.127</td>\n",
       "      <td>0.1531</td>\n",
       "    </tr>\n",
       "    <tr>\n",
       "      <th>2</th>\n",
       "      <td>0.0</td>\n",
       "      <td>1.000</td>\n",
       "      <td>0.000</td>\n",
       "      <td>0.0000</td>\n",
       "    </tr>\n",
       "    <tr>\n",
       "      <th>3</th>\n",
       "      <td>0.0</td>\n",
       "      <td>0.746</td>\n",
       "      <td>0.254</td>\n",
       "      <td>0.5267</td>\n",
       "    </tr>\n",
       "    <tr>\n",
       "      <th>4</th>\n",
       "      <td>0.0</td>\n",
       "      <td>1.000</td>\n",
       "      <td>0.000</td>\n",
       "      <td>0.0000</td>\n",
       "    </tr>\n",
       "  </tbody>\n",
       "</table>\n",
       "</div>"
      ],
      "text/plain": [
       "   neg    neu    pos  compound\n",
       "0  0.0  0.682  0.318    0.6369\n",
       "1  0.0  0.873  0.127    0.1531\n",
       "2  0.0  1.000  0.000    0.0000\n",
       "3  0.0  0.746  0.254    0.5267\n",
       "4  0.0  1.000  0.000    0.0000"
      ]
     },
     "execution_count": 24,
     "metadata": {},
     "output_type": "execute_result"
    }
   ],
   "source": [
    "# Create df with sentiments\n",
    "\n",
    "analyzer = SentimentIntensityAnalyzer()\n",
    "\n",
    "results = [analyzer.polarity_scores(x) for x in df[\"title\"]]\n",
    "sentiment = pd.DataFrame.from_dict(results)\n",
    "\n",
    "sentiment.head()"
   ]
  },
  {
   "cell_type": "code",
   "execution_count": 25,
   "metadata": {},
   "outputs": [
    {
     "data": {
      "text/html": [
       "<div>\n",
       "<style scoped>\n",
       "    .dataframe tbody tr th:only-of-type {\n",
       "        vertical-align: middle;\n",
       "    }\n",
       "\n",
       "    .dataframe tbody tr th {\n",
       "        vertical-align: top;\n",
       "    }\n",
       "\n",
       "    .dataframe thead th {\n",
       "        text-align: right;\n",
       "    }\n",
       "</style>\n",
       "<table border=\"1\" class=\"dataframe\">\n",
       "  <thead>\n",
       "    <tr style=\"text-align: right;\">\n",
       "      <th></th>\n",
       "      <th>stories_id</th>\n",
       "      <th>publish_date</th>\n",
       "      <th>title</th>\n",
       "      <th>url</th>\n",
       "      <th>language</th>\n",
       "      <th>ap_syndicated</th>\n",
       "      <th>themes</th>\n",
       "      <th>media_id</th>\n",
       "      <th>media_name</th>\n",
       "      <th>media_url</th>\n",
       "      <th>year</th>\n",
       "      <th>0</th>\n",
       "      <th>1</th>\n",
       "      <th>2</th>\n",
       "      <th>3</th>\n",
       "      <th>4</th>\n",
       "      <th>neg</th>\n",
       "      <th>neu</th>\n",
       "      <th>pos</th>\n",
       "      <th>compound</th>\n",
       "    </tr>\n",
       "  </thead>\n",
       "  <tbody>\n",
       "    <tr>\n",
       "      <th>0</th>\n",
       "      <td>1007852321</td>\n",
       "      <td>2018-10-01 00:11:02</td>\n",
       "      <td>Former Ivory Coast leader Gbagbo begins freedo...</td>\n",
       "      <td>https://www.france24.com/en/20181001-former-iv...</td>\n",
       "      <td>en</td>\n",
       "      <td>False</td>\n",
       "      <td>NaN</td>\n",
       "      <td>40606</td>\n",
       "      <td>france24-en</td>\n",
       "      <td>http://www.france24.com/en/</td>\n",
       "      <td>2018</td>\n",
       "      <td>0.002759</td>\n",
       "      <td>0.002458</td>\n",
       "      <td>0.000323</td>\n",
       "      <td>0.000271</td>\n",
       "      <td>0.003435</td>\n",
       "      <td>0.0</td>\n",
       "      <td>0.682</td>\n",
       "      <td>0.318</td>\n",
       "      <td>0.6369</td>\n",
       "    </tr>\n",
       "    <tr>\n",
       "      <th>1</th>\n",
       "      <td>1007891510</td>\n",
       "      <td>2018-10-01 02:55:00</td>\n",
       "      <td>Why Brazil's business elites are warming to a ...</td>\n",
       "      <td>https://article.wn.com/view/2018/10/01/Why_Bra...</td>\n",
       "      <td>en</td>\n",
       "      <td>False</td>\n",
       "      <td>NaN</td>\n",
       "      <td>95973</td>\n",
       "      <td>WorldNews.com</td>\n",
       "      <td>http://wn.com/#spider</td>\n",
       "      <td>2018</td>\n",
       "      <td>0.131057</td>\n",
       "      <td>0.023795</td>\n",
       "      <td>0.175554</td>\n",
       "      <td>0.000000</td>\n",
       "      <td>0.000000</td>\n",
       "      <td>0.0</td>\n",
       "      <td>0.873</td>\n",
       "      <td>0.127</td>\n",
       "      <td>0.1531</td>\n",
       "    </tr>\n",
       "    <tr>\n",
       "      <th>2</th>\n",
       "      <td>1008053027</td>\n",
       "      <td>2018-10-01 06:40:50</td>\n",
       "      <td>Monday US briefing: Kavanaugh investigation go...</td>\n",
       "      <td>https://www.theguardian.com/us-news/2018/oct/0...</td>\n",
       "      <td>en</td>\n",
       "      <td>False</td>\n",
       "      <td>NaN</td>\n",
       "      <td>623382</td>\n",
       "      <td>Guardian</td>\n",
       "      <td>http://www.theguardian.com/us</td>\n",
       "      <td>2018</td>\n",
       "      <td>0.007763</td>\n",
       "      <td>0.008622</td>\n",
       "      <td>0.005471</td>\n",
       "      <td>0.001192</td>\n",
       "      <td>0.000000</td>\n",
       "      <td>0.0</td>\n",
       "      <td>1.000</td>\n",
       "      <td>0.000</td>\n",
       "      <td>0.0000</td>\n",
       "    </tr>\n",
       "    <tr>\n",
       "      <th>3</th>\n",
       "      <td>1008079371</td>\n",
       "      <td>2018-10-01 07:13:00</td>\n",
       "      <td>How to Tackle Malnutrition In Africa By Encour...</td>\n",
       "      <td>https://www.forbes.com/sites/mfonobongnsehe/20...</td>\n",
       "      <td>en</td>\n",
       "      <td>False</td>\n",
       "      <td>NaN</td>\n",
       "      <td>1104</td>\n",
       "      <td>Forbes</td>\n",
       "      <td>http://www.forbes.com/</td>\n",
       "      <td>2018</td>\n",
       "      <td>0.000000</td>\n",
       "      <td>0.000000</td>\n",
       "      <td>0.169271</td>\n",
       "      <td>0.000000</td>\n",
       "      <td>0.168502</td>\n",
       "      <td>0.0</td>\n",
       "      <td>0.746</td>\n",
       "      <td>0.254</td>\n",
       "      <td>0.5267</td>\n",
       "    </tr>\n",
       "    <tr>\n",
       "      <th>4</th>\n",
       "      <td>1008153230</td>\n",
       "      <td>2018-10-01 00:00:00</td>\n",
       "      <td>The Decline and Fall of Brazil’s Political Est...</td>\n",
       "      <td>https://www.foreignaffairs.com/articles/brazil...</td>\n",
       "      <td>en</td>\n",
       "      <td>False</td>\n",
       "      <td>NaN</td>\n",
       "      <td>46603</td>\n",
       "      <td>Foreign Affairs</td>\n",
       "      <td>http://m.foreignaffairs.com/#spider</td>\n",
       "      <td>2018</td>\n",
       "      <td>0.094302</td>\n",
       "      <td>0.231837</td>\n",
       "      <td>0.000000</td>\n",
       "      <td>0.000000</td>\n",
       "      <td>0.007236</td>\n",
       "      <td>0.0</td>\n",
       "      <td>1.000</td>\n",
       "      <td>0.000</td>\n",
       "      <td>0.0000</td>\n",
       "    </tr>\n",
       "  </tbody>\n",
       "</table>\n",
       "</div>"
      ],
      "text/plain": [
       "   stories_id        publish_date  \\\n",
       "0  1007852321 2018-10-01 00:11:02   \n",
       "1  1007891510 2018-10-01 02:55:00   \n",
       "2  1008053027 2018-10-01 06:40:50   \n",
       "3  1008079371 2018-10-01 07:13:00   \n",
       "4  1008153230 2018-10-01 00:00:00   \n",
       "\n",
       "                                               title  \\\n",
       "0  Former Ivory Coast leader Gbagbo begins freedo...   \n",
       "1  Why Brazil's business elites are warming to a ...   \n",
       "2  Monday US briefing: Kavanaugh investigation go...   \n",
       "3  How to Tackle Malnutrition In Africa By Encour...   \n",
       "4  The Decline and Fall of Brazil’s Political Est...   \n",
       "\n",
       "                                                 url language  ap_syndicated  \\\n",
       "0  https://www.france24.com/en/20181001-former-iv...       en          False   \n",
       "1  https://article.wn.com/view/2018/10/01/Why_Bra...       en          False   \n",
       "2  https://www.theguardian.com/us-news/2018/oct/0...       en          False   \n",
       "3  https://www.forbes.com/sites/mfonobongnsehe/20...       en          False   \n",
       "4  https://www.foreignaffairs.com/articles/brazil...       en          False   \n",
       "\n",
       "  themes  media_id       media_name                            media_url  \\\n",
       "0    NaN     40606      france24-en          http://www.france24.com/en/   \n",
       "1    NaN     95973    WorldNews.com                http://wn.com/#spider   \n",
       "2    NaN    623382         Guardian        http://www.theguardian.com/us   \n",
       "3    NaN      1104           Forbes               http://www.forbes.com/   \n",
       "4    NaN     46603  Foreign Affairs  http://m.foreignaffairs.com/#spider   \n",
       "\n",
       "   year         0         1         2         3         4  neg    neu    pos  \\\n",
       "0  2018  0.002759  0.002458  0.000323  0.000271  0.003435  0.0  0.682  0.318   \n",
       "1  2018  0.131057  0.023795  0.175554  0.000000  0.000000  0.0  0.873  0.127   \n",
       "2  2018  0.007763  0.008622  0.005471  0.001192  0.000000  0.0  1.000  0.000   \n",
       "3  2018  0.000000  0.000000  0.169271  0.000000  0.168502  0.0  0.746  0.254   \n",
       "4  2018  0.094302  0.231837  0.000000  0.000000  0.007236  0.0  1.000  0.000   \n",
       "\n",
       "   compound  \n",
       "0    0.6369  \n",
       "1    0.1531  \n",
       "2    0.0000  \n",
       "3    0.5267  \n",
       "4    0.0000  "
      ]
     },
     "execution_count": 25,
     "metadata": {},
     "output_type": "execute_result"
    }
   ],
   "source": [
    "# Merge topic df with sentiments df\n",
    "\n",
    "sentiment_df = pd.concat([topics_df,sentiment], axis=1)\n",
    "\n",
    "sentiment_df.head()"
   ]
  },
  {
   "cell_type": "code",
   "execution_count": 26,
   "metadata": {},
   "outputs": [
    {
     "data": {
      "text/plain": [
       "array([[\"STOP The WARS! Paris Protests Trump & Macron's War Crimes On Armistice Day 2018\",\n",
       "        -0.924],\n",
       "       [\"The 'Brazilian Donald Trump' just became president in a landslide. He got there despite saying he couldn't love a gay son and that a colleague was too 'ugly' to be raped.\",\n",
       "        -0.9056],\n",
       "       ['CCTV shows moments before fatal bridge collapse in India, killing more than 100',\n",
       "        -0.9022],\n",
       "       ['LETTERS - It’s right to challenge racist lies over child sexual abuse',\n",
       "        -0.8934],\n",
       "       [\"'Flowering of hate': bitter election brings wave of political violence to Brazil\",\n",
       "        -0.891]], dtype=object)"
      ]
     },
     "execution_count": 26,
     "metadata": {},
     "output_type": "execute_result"
    }
   ],
   "source": [
    "# Headlines with lowest sentiment\n",
    "\n",
    "sentiment_df.sort_values(\"compound\").head()[[\"title\",\"compound\"]].values"
   ]
  },
  {
   "cell_type": "code",
   "execution_count": 27,
   "metadata": {},
   "outputs": [
    {
     "data": {
      "text/plain": [
       "array([['VINDICATED: Lula supporters celebrate in Autazes, Amazonas State',\n",
       "        0.8788],\n",
       "       ['Día de los Muertos celebrations help families honor, remember deceased loved ones',\n",
       "        0.8689],\n",
       "       ['Holiday Gift Guide 2022 • House Beautiful', 0.8591],\n",
       "       ['Somerset ready to accept MassWorks grant to improve Route 6',\n",
       "        0.8591],\n",
       "       [\"Brazil's Comedians See Perfect Timing 'To Make People Laugh'\",\n",
       "        0.8591]], dtype=object)"
      ]
     },
     "execution_count": 27,
     "metadata": {},
     "output_type": "execute_result"
    }
   ],
   "source": [
    "# Headlines with higher sentiment\n",
    "\n",
    "sentiment_df.sort_values(\"compound\", ascending=False).head()[[\"title\",\"compound\"]].values"
   ]
  },
  {
   "attachments": {},
   "cell_type": "markdown",
   "metadata": {},
   "source": [
    "## Visualisations"
   ]
  },
  {
   "cell_type": "code",
   "execution_count": 28,
   "metadata": {},
   "outputs": [
    {
     "data": {
      "application/vnd.plotly.v1+json": {
       "config": {
        "plotlyServerURL": "https://plot.ly"
       },
       "data": [
        {
         "alignmentgroup": "True",
         "hovertemplate": "year=%{x}<br>title=%{y}<extra></extra>",
         "legendgroup": "2018",
         "marker": {
          "color": "#636efa",
          "pattern": {
           "shape": ""
          }
         },
         "name": "2018",
         "offsetgroup": "2018",
         "orientation": "v",
         "showlegend": true,
         "textposition": "auto",
         "type": "bar",
         "x": [
          "2018"
         ],
         "xaxis": "x",
         "y": [
          1708
         ],
         "yaxis": "y"
        },
        {
         "alignmentgroup": "True",
         "hovertemplate": "year=%{x}<br>title=%{y}<extra></extra>",
         "legendgroup": "2022",
         "marker": {
          "color": "#EF553B",
          "pattern": {
           "shape": ""
          }
         },
         "name": "2022",
         "offsetgroup": "2022",
         "orientation": "v",
         "showlegend": true,
         "textposition": "auto",
         "type": "bar",
         "x": [
          "2022"
         ],
         "xaxis": "x",
         "y": [
          1865
         ],
         "yaxis": "y"
        }
       ],
       "layout": {
        "barmode": "relative",
        "legend": {
         "title": {
          "text": "year"
         },
         "tracegroupgap": 0
        },
        "template": {
         "data": {
          "bar": [
           {
            "error_x": {
             "color": "#2a3f5f"
            },
            "error_y": {
             "color": "#2a3f5f"
            },
            "marker": {
             "line": {
              "color": "#E5ECF6",
              "width": 0.5
             },
             "pattern": {
              "fillmode": "overlay",
              "size": 10,
              "solidity": 0.2
             }
            },
            "type": "bar"
           }
          ],
          "barpolar": [
           {
            "marker": {
             "line": {
              "color": "#E5ECF6",
              "width": 0.5
             },
             "pattern": {
              "fillmode": "overlay",
              "size": 10,
              "solidity": 0.2
             }
            },
            "type": "barpolar"
           }
          ],
          "carpet": [
           {
            "aaxis": {
             "endlinecolor": "#2a3f5f",
             "gridcolor": "white",
             "linecolor": "white",
             "minorgridcolor": "white",
             "startlinecolor": "#2a3f5f"
            },
            "baxis": {
             "endlinecolor": "#2a3f5f",
             "gridcolor": "white",
             "linecolor": "white",
             "minorgridcolor": "white",
             "startlinecolor": "#2a3f5f"
            },
            "type": "carpet"
           }
          ],
          "choropleth": [
           {
            "colorbar": {
             "outlinewidth": 0,
             "ticks": ""
            },
            "type": "choropleth"
           }
          ],
          "contour": [
           {
            "colorbar": {
             "outlinewidth": 0,
             "ticks": ""
            },
            "colorscale": [
             [
              0,
              "#0d0887"
             ],
             [
              0.1111111111111111,
              "#46039f"
             ],
             [
              0.2222222222222222,
              "#7201a8"
             ],
             [
              0.3333333333333333,
              "#9c179e"
             ],
             [
              0.4444444444444444,
              "#bd3786"
             ],
             [
              0.5555555555555556,
              "#d8576b"
             ],
             [
              0.6666666666666666,
              "#ed7953"
             ],
             [
              0.7777777777777778,
              "#fb9f3a"
             ],
             [
              0.8888888888888888,
              "#fdca26"
             ],
             [
              1,
              "#f0f921"
             ]
            ],
            "type": "contour"
           }
          ],
          "contourcarpet": [
           {
            "colorbar": {
             "outlinewidth": 0,
             "ticks": ""
            },
            "type": "contourcarpet"
           }
          ],
          "heatmap": [
           {
            "colorbar": {
             "outlinewidth": 0,
             "ticks": ""
            },
            "colorscale": [
             [
              0,
              "#0d0887"
             ],
             [
              0.1111111111111111,
              "#46039f"
             ],
             [
              0.2222222222222222,
              "#7201a8"
             ],
             [
              0.3333333333333333,
              "#9c179e"
             ],
             [
              0.4444444444444444,
              "#bd3786"
             ],
             [
              0.5555555555555556,
              "#d8576b"
             ],
             [
              0.6666666666666666,
              "#ed7953"
             ],
             [
              0.7777777777777778,
              "#fb9f3a"
             ],
             [
              0.8888888888888888,
              "#fdca26"
             ],
             [
              1,
              "#f0f921"
             ]
            ],
            "type": "heatmap"
           }
          ],
          "heatmapgl": [
           {
            "colorbar": {
             "outlinewidth": 0,
             "ticks": ""
            },
            "colorscale": [
             [
              0,
              "#0d0887"
             ],
             [
              0.1111111111111111,
              "#46039f"
             ],
             [
              0.2222222222222222,
              "#7201a8"
             ],
             [
              0.3333333333333333,
              "#9c179e"
             ],
             [
              0.4444444444444444,
              "#bd3786"
             ],
             [
              0.5555555555555556,
              "#d8576b"
             ],
             [
              0.6666666666666666,
              "#ed7953"
             ],
             [
              0.7777777777777778,
              "#fb9f3a"
             ],
             [
              0.8888888888888888,
              "#fdca26"
             ],
             [
              1,
              "#f0f921"
             ]
            ],
            "type": "heatmapgl"
           }
          ],
          "histogram": [
           {
            "marker": {
             "pattern": {
              "fillmode": "overlay",
              "size": 10,
              "solidity": 0.2
             }
            },
            "type": "histogram"
           }
          ],
          "histogram2d": [
           {
            "colorbar": {
             "outlinewidth": 0,
             "ticks": ""
            },
            "colorscale": [
             [
              0,
              "#0d0887"
             ],
             [
              0.1111111111111111,
              "#46039f"
             ],
             [
              0.2222222222222222,
              "#7201a8"
             ],
             [
              0.3333333333333333,
              "#9c179e"
             ],
             [
              0.4444444444444444,
              "#bd3786"
             ],
             [
              0.5555555555555556,
              "#d8576b"
             ],
             [
              0.6666666666666666,
              "#ed7953"
             ],
             [
              0.7777777777777778,
              "#fb9f3a"
             ],
             [
              0.8888888888888888,
              "#fdca26"
             ],
             [
              1,
              "#f0f921"
             ]
            ],
            "type": "histogram2d"
           }
          ],
          "histogram2dcontour": [
           {
            "colorbar": {
             "outlinewidth": 0,
             "ticks": ""
            },
            "colorscale": [
             [
              0,
              "#0d0887"
             ],
             [
              0.1111111111111111,
              "#46039f"
             ],
             [
              0.2222222222222222,
              "#7201a8"
             ],
             [
              0.3333333333333333,
              "#9c179e"
             ],
             [
              0.4444444444444444,
              "#bd3786"
             ],
             [
              0.5555555555555556,
              "#d8576b"
             ],
             [
              0.6666666666666666,
              "#ed7953"
             ],
             [
              0.7777777777777778,
              "#fb9f3a"
             ],
             [
              0.8888888888888888,
              "#fdca26"
             ],
             [
              1,
              "#f0f921"
             ]
            ],
            "type": "histogram2dcontour"
           }
          ],
          "mesh3d": [
           {
            "colorbar": {
             "outlinewidth": 0,
             "ticks": ""
            },
            "type": "mesh3d"
           }
          ],
          "parcoords": [
           {
            "line": {
             "colorbar": {
              "outlinewidth": 0,
              "ticks": ""
             }
            },
            "type": "parcoords"
           }
          ],
          "pie": [
           {
            "automargin": true,
            "type": "pie"
           }
          ],
          "scatter": [
           {
            "fillpattern": {
             "fillmode": "overlay",
             "size": 10,
             "solidity": 0.2
            },
            "type": "scatter"
           }
          ],
          "scatter3d": [
           {
            "line": {
             "colorbar": {
              "outlinewidth": 0,
              "ticks": ""
             }
            },
            "marker": {
             "colorbar": {
              "outlinewidth": 0,
              "ticks": ""
             }
            },
            "type": "scatter3d"
           }
          ],
          "scattercarpet": [
           {
            "marker": {
             "colorbar": {
              "outlinewidth": 0,
              "ticks": ""
             }
            },
            "type": "scattercarpet"
           }
          ],
          "scattergeo": [
           {
            "marker": {
             "colorbar": {
              "outlinewidth": 0,
              "ticks": ""
             }
            },
            "type": "scattergeo"
           }
          ],
          "scattergl": [
           {
            "marker": {
             "colorbar": {
              "outlinewidth": 0,
              "ticks": ""
             }
            },
            "type": "scattergl"
           }
          ],
          "scattermapbox": [
           {
            "marker": {
             "colorbar": {
              "outlinewidth": 0,
              "ticks": ""
             }
            },
            "type": "scattermapbox"
           }
          ],
          "scatterpolar": [
           {
            "marker": {
             "colorbar": {
              "outlinewidth": 0,
              "ticks": ""
             }
            },
            "type": "scatterpolar"
           }
          ],
          "scatterpolargl": [
           {
            "marker": {
             "colorbar": {
              "outlinewidth": 0,
              "ticks": ""
             }
            },
            "type": "scatterpolargl"
           }
          ],
          "scatterternary": [
           {
            "marker": {
             "colorbar": {
              "outlinewidth": 0,
              "ticks": ""
             }
            },
            "type": "scatterternary"
           }
          ],
          "surface": [
           {
            "colorbar": {
             "outlinewidth": 0,
             "ticks": ""
            },
            "colorscale": [
             [
              0,
              "#0d0887"
             ],
             [
              0.1111111111111111,
              "#46039f"
             ],
             [
              0.2222222222222222,
              "#7201a8"
             ],
             [
              0.3333333333333333,
              "#9c179e"
             ],
             [
              0.4444444444444444,
              "#bd3786"
             ],
             [
              0.5555555555555556,
              "#d8576b"
             ],
             [
              0.6666666666666666,
              "#ed7953"
             ],
             [
              0.7777777777777778,
              "#fb9f3a"
             ],
             [
              0.8888888888888888,
              "#fdca26"
             ],
             [
              1,
              "#f0f921"
             ]
            ],
            "type": "surface"
           }
          ],
          "table": [
           {
            "cells": {
             "fill": {
              "color": "#EBF0F8"
             },
             "line": {
              "color": "white"
             }
            },
            "header": {
             "fill": {
              "color": "#C8D4E3"
             },
             "line": {
              "color": "white"
             }
            },
            "type": "table"
           }
          ]
         },
         "layout": {
          "annotationdefaults": {
           "arrowcolor": "#2a3f5f",
           "arrowhead": 0,
           "arrowwidth": 1
          },
          "autotypenumbers": "strict",
          "coloraxis": {
           "colorbar": {
            "outlinewidth": 0,
            "ticks": ""
           }
          },
          "colorscale": {
           "diverging": [
            [
             0,
             "#8e0152"
            ],
            [
             0.1,
             "#c51b7d"
            ],
            [
             0.2,
             "#de77ae"
            ],
            [
             0.3,
             "#f1b6da"
            ],
            [
             0.4,
             "#fde0ef"
            ],
            [
             0.5,
             "#f7f7f7"
            ],
            [
             0.6,
             "#e6f5d0"
            ],
            [
             0.7,
             "#b8e186"
            ],
            [
             0.8,
             "#7fbc41"
            ],
            [
             0.9,
             "#4d9221"
            ],
            [
             1,
             "#276419"
            ]
           ],
           "sequential": [
            [
             0,
             "#0d0887"
            ],
            [
             0.1111111111111111,
             "#46039f"
            ],
            [
             0.2222222222222222,
             "#7201a8"
            ],
            [
             0.3333333333333333,
             "#9c179e"
            ],
            [
             0.4444444444444444,
             "#bd3786"
            ],
            [
             0.5555555555555556,
             "#d8576b"
            ],
            [
             0.6666666666666666,
             "#ed7953"
            ],
            [
             0.7777777777777778,
             "#fb9f3a"
            ],
            [
             0.8888888888888888,
             "#fdca26"
            ],
            [
             1,
             "#f0f921"
            ]
           ],
           "sequentialminus": [
            [
             0,
             "#0d0887"
            ],
            [
             0.1111111111111111,
             "#46039f"
            ],
            [
             0.2222222222222222,
             "#7201a8"
            ],
            [
             0.3333333333333333,
             "#9c179e"
            ],
            [
             0.4444444444444444,
             "#bd3786"
            ],
            [
             0.5555555555555556,
             "#d8576b"
            ],
            [
             0.6666666666666666,
             "#ed7953"
            ],
            [
             0.7777777777777778,
             "#fb9f3a"
            ],
            [
             0.8888888888888888,
             "#fdca26"
            ],
            [
             1,
             "#f0f921"
            ]
           ]
          },
          "colorway": [
           "#636efa",
           "#EF553B",
           "#00cc96",
           "#ab63fa",
           "#FFA15A",
           "#19d3f3",
           "#FF6692",
           "#B6E880",
           "#FF97FF",
           "#FECB52"
          ],
          "font": {
           "color": "#2a3f5f"
          },
          "geo": {
           "bgcolor": "white",
           "lakecolor": "white",
           "landcolor": "#E5ECF6",
           "showlakes": true,
           "showland": true,
           "subunitcolor": "white"
          },
          "hoverlabel": {
           "align": "left"
          },
          "hovermode": "closest",
          "mapbox": {
           "style": "light"
          },
          "paper_bgcolor": "white",
          "plot_bgcolor": "#E5ECF6",
          "polar": {
           "angularaxis": {
            "gridcolor": "white",
            "linecolor": "white",
            "ticks": ""
           },
           "bgcolor": "#E5ECF6",
           "radialaxis": {
            "gridcolor": "white",
            "linecolor": "white",
            "ticks": ""
           }
          },
          "scene": {
           "xaxis": {
            "backgroundcolor": "#E5ECF6",
            "gridcolor": "white",
            "gridwidth": 2,
            "linecolor": "white",
            "showbackground": true,
            "ticks": "",
            "zerolinecolor": "white"
           },
           "yaxis": {
            "backgroundcolor": "#E5ECF6",
            "gridcolor": "white",
            "gridwidth": 2,
            "linecolor": "white",
            "showbackground": true,
            "ticks": "",
            "zerolinecolor": "white"
           },
           "zaxis": {
            "backgroundcolor": "#E5ECF6",
            "gridcolor": "white",
            "gridwidth": 2,
            "linecolor": "white",
            "showbackground": true,
            "ticks": "",
            "zerolinecolor": "white"
           }
          },
          "shapedefaults": {
           "line": {
            "color": "#2a3f5f"
           }
          },
          "ternary": {
           "aaxis": {
            "gridcolor": "white",
            "linecolor": "white",
            "ticks": ""
           },
           "baxis": {
            "gridcolor": "white",
            "linecolor": "white",
            "ticks": ""
           },
           "bgcolor": "#E5ECF6",
           "caxis": {
            "gridcolor": "white",
            "linecolor": "white",
            "ticks": ""
           }
          },
          "title": {
           "x": 0.05
          },
          "xaxis": {
           "automargin": true,
           "gridcolor": "white",
           "linecolor": "white",
           "ticks": "",
           "title": {
            "standoff": 15
           },
           "zerolinecolor": "white",
           "zerolinewidth": 2
          },
          "yaxis": {
           "automargin": true,
           "gridcolor": "white",
           "linecolor": "white",
           "ticks": "",
           "title": {
            "standoff": 15
           },
           "zerolinecolor": "white",
           "zerolinewidth": 2
          }
         }
        },
        "title": {
         "text": "Headlines per election year"
        },
        "xaxis": {
         "anchor": "y",
         "categoryarray": [
          "2018",
          "2022"
         ],
         "categoryorder": "array",
         "domain": [
          0,
          1
         ],
         "title": {
          "text": "year"
         }
        },
        "yaxis": {
         "anchor": "x",
         "domain": [
          0,
          1
         ],
         "title": {
          "text": "title"
         }
        }
       }
      }
     },
     "metadata": {},
     "output_type": "display_data"
    }
   ],
   "source": [
    "# Headlines per election year\n",
    "\n",
    "df_years = df.groupby(\"year\")[\"title\"].count().reset_index()\n",
    "\n",
    "fig = px.bar(df_years, x=\"year\", y=\"title\", color=\"year\", title=\"Headlines per election year\")\n",
    "\n",
    "fig.show()"
   ]
  },
  {
   "cell_type": "code",
   "execution_count": 29,
   "metadata": {},
   "outputs": [
    {
     "data": {
      "application/vnd.plotly.v1+json": {
       "config": {
        "plotlyServerURL": "https://plot.ly"
       },
       "data": [
        {
         "alignmentgroup": "True",
         "hovertemplate": "media_name=%{x}<br>title=%{y}<extra></extra>",
         "legendgroup": "uk.news.yahoo.com",
         "marker": {
          "color": "#636efa",
          "pattern": {
           "shape": ""
          }
         },
         "name": "uk.news.yahoo.com",
         "offsetgroup": "uk.news.yahoo.com",
         "orientation": "v",
         "showlegend": true,
         "textposition": "auto",
         "type": "bar",
         "x": [
          "uk.news.yahoo.com"
         ],
         "xaxis": "x",
         "y": [
          143
         ],
         "yaxis": "y"
        },
        {
         "alignmentgroup": "True",
         "hovertemplate": "media_name=%{x}<br>title=%{y}<extra></extra>",
         "legendgroup": "Reuters",
         "marker": {
          "color": "#EF553B",
          "pattern": {
           "shape": ""
          }
         },
         "name": "Reuters",
         "offsetgroup": "Reuters",
         "orientation": "v",
         "showlegend": true,
         "textposition": "auto",
         "type": "bar",
         "x": [
          "Reuters"
         ],
         "xaxis": "x",
         "y": [
          142
         ],
         "yaxis": "y"
        },
        {
         "alignmentgroup": "True",
         "hovertemplate": "media_name=%{x}<br>title=%{y}<extra></extra>",
         "legendgroup": "IBTimes",
         "marker": {
          "color": "#00cc96",
          "pattern": {
           "shape": ""
          }
         },
         "name": "IBTimes",
         "offsetgroup": "IBTimes",
         "orientation": "v",
         "showlegend": true,
         "textposition": "auto",
         "type": "bar",
         "x": [
          "IBTimes"
         ],
         "xaxis": "x",
         "y": [
          140
         ],
         "yaxis": "y"
        },
        {
         "alignmentgroup": "True",
         "hovertemplate": "media_name=%{x}<br>title=%{y}<extra></extra>",
         "legendgroup": "Wikipedia",
         "marker": {
          "color": "#ab63fa",
          "pattern": {
           "shape": ""
          }
         },
         "name": "Wikipedia",
         "offsetgroup": "Wikipedia",
         "orientation": "v",
         "showlegend": true,
         "textposition": "auto",
         "type": "bar",
         "x": [
          "Wikipedia"
         ],
         "xaxis": "x",
         "y": [
          133
         ],
         "yaxis": "y"
        },
        {
         "alignmentgroup": "True",
         "hovertemplate": "media_name=%{x}<br>title=%{y}<extra></extra>",
         "legendgroup": "myfoxspokane.com",
         "marker": {
          "color": "#FFA15A",
          "pattern": {
           "shape": ""
          }
         },
         "name": "myfoxspokane.com",
         "offsetgroup": "myfoxspokane.com",
         "orientation": "v",
         "showlegend": true,
         "textposition": "auto",
         "type": "bar",
         "x": [
          "myfoxspokane.com"
         ],
         "xaxis": "x",
         "y": [
          120
         ],
         "yaxis": "y"
        },
        {
         "alignmentgroup": "True",
         "hovertemplate": "media_name=%{x}<br>title=%{y}<extra></extra>",
         "legendgroup": "financialpost.com",
         "marker": {
          "color": "#19d3f3",
          "pattern": {
           "shape": ""
          }
         },
         "name": "financialpost.com",
         "offsetgroup": "financialpost.com",
         "orientation": "v",
         "showlegend": true,
         "textposition": "auto",
         "type": "bar",
         "x": [
          "financialpost.com"
         ],
         "xaxis": "x",
         "y": [
          115
         ],
         "yaxis": "y"
        },
        {
         "alignmentgroup": "True",
         "hovertemplate": "media_name=%{x}<br>title=%{y}<extra></extra>",
         "legendgroup": "uk.reuters.com",
         "marker": {
          "color": "#FF6692",
          "pattern": {
           "shape": ""
          }
         },
         "name": "uk.reuters.com",
         "offsetgroup": "uk.reuters.com",
         "orientation": "v",
         "showlegend": true,
         "textposition": "auto",
         "type": "bar",
         "x": [
          "uk.reuters.com"
         ],
         "xaxis": "x",
         "y": [
          89
         ],
         "yaxis": "y"
        },
        {
         "alignmentgroup": "True",
         "hovertemplate": "media_name=%{x}<br>title=%{y}<extra></extra>",
         "legendgroup": "US News & World Report ",
         "marker": {
          "color": "#B6E880",
          "pattern": {
           "shape": ""
          }
         },
         "name": "US News & World Report ",
         "offsetgroup": "US News & World Report ",
         "orientation": "v",
         "showlegend": true,
         "textposition": "auto",
         "type": "bar",
         "x": [
          "US News & World Report "
         ],
         "xaxis": "x",
         "y": [
          89
         ],
         "yaxis": "y"
        },
        {
         "alignmentgroup": "True",
         "hovertemplate": "media_name=%{x}<br>title=%{y}<extra></extra>",
         "legendgroup": "Google ニュース",
         "marker": {
          "color": "#FF97FF",
          "pattern": {
           "shape": ""
          }
         },
         "name": "Google ニュース",
         "offsetgroup": "Google ニュース",
         "orientation": "v",
         "showlegend": true,
         "textposition": "auto",
         "type": "bar",
         "x": [
          "Google ニュース"
         ],
         "xaxis": "x",
         "y": [
          68
         ],
         "yaxis": "y"
        },
        {
         "alignmentgroup": "True",
         "hovertemplate": "media_name=%{x}<br>title=%{y}<extra></extra>",
         "legendgroup": "News and Java",
         "marker": {
          "color": "#FECB52",
          "pattern": {
           "shape": ""
          }
         },
         "name": "News and Java",
         "offsetgroup": "News and Java",
         "orientation": "v",
         "showlegend": true,
         "textposition": "auto",
         "type": "bar",
         "x": [
          "News and Java"
         ],
         "xaxis": "x",
         "y": [
          59
         ],
         "yaxis": "y"
        }
       ],
       "layout": {
        "barmode": "relative",
        "legend": {
         "title": {
          "text": "media_name"
         },
         "tracegroupgap": 0
        },
        "template": {
         "data": {
          "bar": [
           {
            "error_x": {
             "color": "#2a3f5f"
            },
            "error_y": {
             "color": "#2a3f5f"
            },
            "marker": {
             "line": {
              "color": "#E5ECF6",
              "width": 0.5
             },
             "pattern": {
              "fillmode": "overlay",
              "size": 10,
              "solidity": 0.2
             }
            },
            "type": "bar"
           }
          ],
          "barpolar": [
           {
            "marker": {
             "line": {
              "color": "#E5ECF6",
              "width": 0.5
             },
             "pattern": {
              "fillmode": "overlay",
              "size": 10,
              "solidity": 0.2
             }
            },
            "type": "barpolar"
           }
          ],
          "carpet": [
           {
            "aaxis": {
             "endlinecolor": "#2a3f5f",
             "gridcolor": "white",
             "linecolor": "white",
             "minorgridcolor": "white",
             "startlinecolor": "#2a3f5f"
            },
            "baxis": {
             "endlinecolor": "#2a3f5f",
             "gridcolor": "white",
             "linecolor": "white",
             "minorgridcolor": "white",
             "startlinecolor": "#2a3f5f"
            },
            "type": "carpet"
           }
          ],
          "choropleth": [
           {
            "colorbar": {
             "outlinewidth": 0,
             "ticks": ""
            },
            "type": "choropleth"
           }
          ],
          "contour": [
           {
            "colorbar": {
             "outlinewidth": 0,
             "ticks": ""
            },
            "colorscale": [
             [
              0,
              "#0d0887"
             ],
             [
              0.1111111111111111,
              "#46039f"
             ],
             [
              0.2222222222222222,
              "#7201a8"
             ],
             [
              0.3333333333333333,
              "#9c179e"
             ],
             [
              0.4444444444444444,
              "#bd3786"
             ],
             [
              0.5555555555555556,
              "#d8576b"
             ],
             [
              0.6666666666666666,
              "#ed7953"
             ],
             [
              0.7777777777777778,
              "#fb9f3a"
             ],
             [
              0.8888888888888888,
              "#fdca26"
             ],
             [
              1,
              "#f0f921"
             ]
            ],
            "type": "contour"
           }
          ],
          "contourcarpet": [
           {
            "colorbar": {
             "outlinewidth": 0,
             "ticks": ""
            },
            "type": "contourcarpet"
           }
          ],
          "heatmap": [
           {
            "colorbar": {
             "outlinewidth": 0,
             "ticks": ""
            },
            "colorscale": [
             [
              0,
              "#0d0887"
             ],
             [
              0.1111111111111111,
              "#46039f"
             ],
             [
              0.2222222222222222,
              "#7201a8"
             ],
             [
              0.3333333333333333,
              "#9c179e"
             ],
             [
              0.4444444444444444,
              "#bd3786"
             ],
             [
              0.5555555555555556,
              "#d8576b"
             ],
             [
              0.6666666666666666,
              "#ed7953"
             ],
             [
              0.7777777777777778,
              "#fb9f3a"
             ],
             [
              0.8888888888888888,
              "#fdca26"
             ],
             [
              1,
              "#f0f921"
             ]
            ],
            "type": "heatmap"
           }
          ],
          "heatmapgl": [
           {
            "colorbar": {
             "outlinewidth": 0,
             "ticks": ""
            },
            "colorscale": [
             [
              0,
              "#0d0887"
             ],
             [
              0.1111111111111111,
              "#46039f"
             ],
             [
              0.2222222222222222,
              "#7201a8"
             ],
             [
              0.3333333333333333,
              "#9c179e"
             ],
             [
              0.4444444444444444,
              "#bd3786"
             ],
             [
              0.5555555555555556,
              "#d8576b"
             ],
             [
              0.6666666666666666,
              "#ed7953"
             ],
             [
              0.7777777777777778,
              "#fb9f3a"
             ],
             [
              0.8888888888888888,
              "#fdca26"
             ],
             [
              1,
              "#f0f921"
             ]
            ],
            "type": "heatmapgl"
           }
          ],
          "histogram": [
           {
            "marker": {
             "pattern": {
              "fillmode": "overlay",
              "size": 10,
              "solidity": 0.2
             }
            },
            "type": "histogram"
           }
          ],
          "histogram2d": [
           {
            "colorbar": {
             "outlinewidth": 0,
             "ticks": ""
            },
            "colorscale": [
             [
              0,
              "#0d0887"
             ],
             [
              0.1111111111111111,
              "#46039f"
             ],
             [
              0.2222222222222222,
              "#7201a8"
             ],
             [
              0.3333333333333333,
              "#9c179e"
             ],
             [
              0.4444444444444444,
              "#bd3786"
             ],
             [
              0.5555555555555556,
              "#d8576b"
             ],
             [
              0.6666666666666666,
              "#ed7953"
             ],
             [
              0.7777777777777778,
              "#fb9f3a"
             ],
             [
              0.8888888888888888,
              "#fdca26"
             ],
             [
              1,
              "#f0f921"
             ]
            ],
            "type": "histogram2d"
           }
          ],
          "histogram2dcontour": [
           {
            "colorbar": {
             "outlinewidth": 0,
             "ticks": ""
            },
            "colorscale": [
             [
              0,
              "#0d0887"
             ],
             [
              0.1111111111111111,
              "#46039f"
             ],
             [
              0.2222222222222222,
              "#7201a8"
             ],
             [
              0.3333333333333333,
              "#9c179e"
             ],
             [
              0.4444444444444444,
              "#bd3786"
             ],
             [
              0.5555555555555556,
              "#d8576b"
             ],
             [
              0.6666666666666666,
              "#ed7953"
             ],
             [
              0.7777777777777778,
              "#fb9f3a"
             ],
             [
              0.8888888888888888,
              "#fdca26"
             ],
             [
              1,
              "#f0f921"
             ]
            ],
            "type": "histogram2dcontour"
           }
          ],
          "mesh3d": [
           {
            "colorbar": {
             "outlinewidth": 0,
             "ticks": ""
            },
            "type": "mesh3d"
           }
          ],
          "parcoords": [
           {
            "line": {
             "colorbar": {
              "outlinewidth": 0,
              "ticks": ""
             }
            },
            "type": "parcoords"
           }
          ],
          "pie": [
           {
            "automargin": true,
            "type": "pie"
           }
          ],
          "scatter": [
           {
            "fillpattern": {
             "fillmode": "overlay",
             "size": 10,
             "solidity": 0.2
            },
            "type": "scatter"
           }
          ],
          "scatter3d": [
           {
            "line": {
             "colorbar": {
              "outlinewidth": 0,
              "ticks": ""
             }
            },
            "marker": {
             "colorbar": {
              "outlinewidth": 0,
              "ticks": ""
             }
            },
            "type": "scatter3d"
           }
          ],
          "scattercarpet": [
           {
            "marker": {
             "colorbar": {
              "outlinewidth": 0,
              "ticks": ""
             }
            },
            "type": "scattercarpet"
           }
          ],
          "scattergeo": [
           {
            "marker": {
             "colorbar": {
              "outlinewidth": 0,
              "ticks": ""
             }
            },
            "type": "scattergeo"
           }
          ],
          "scattergl": [
           {
            "marker": {
             "colorbar": {
              "outlinewidth": 0,
              "ticks": ""
             }
            },
            "type": "scattergl"
           }
          ],
          "scattermapbox": [
           {
            "marker": {
             "colorbar": {
              "outlinewidth": 0,
              "ticks": ""
             }
            },
            "type": "scattermapbox"
           }
          ],
          "scatterpolar": [
           {
            "marker": {
             "colorbar": {
              "outlinewidth": 0,
              "ticks": ""
             }
            },
            "type": "scatterpolar"
           }
          ],
          "scatterpolargl": [
           {
            "marker": {
             "colorbar": {
              "outlinewidth": 0,
              "ticks": ""
             }
            },
            "type": "scatterpolargl"
           }
          ],
          "scatterternary": [
           {
            "marker": {
             "colorbar": {
              "outlinewidth": 0,
              "ticks": ""
             }
            },
            "type": "scatterternary"
           }
          ],
          "surface": [
           {
            "colorbar": {
             "outlinewidth": 0,
             "ticks": ""
            },
            "colorscale": [
             [
              0,
              "#0d0887"
             ],
             [
              0.1111111111111111,
              "#46039f"
             ],
             [
              0.2222222222222222,
              "#7201a8"
             ],
             [
              0.3333333333333333,
              "#9c179e"
             ],
             [
              0.4444444444444444,
              "#bd3786"
             ],
             [
              0.5555555555555556,
              "#d8576b"
             ],
             [
              0.6666666666666666,
              "#ed7953"
             ],
             [
              0.7777777777777778,
              "#fb9f3a"
             ],
             [
              0.8888888888888888,
              "#fdca26"
             ],
             [
              1,
              "#f0f921"
             ]
            ],
            "type": "surface"
           }
          ],
          "table": [
           {
            "cells": {
             "fill": {
              "color": "#EBF0F8"
             },
             "line": {
              "color": "white"
             }
            },
            "header": {
             "fill": {
              "color": "#C8D4E3"
             },
             "line": {
              "color": "white"
             }
            },
            "type": "table"
           }
          ]
         },
         "layout": {
          "annotationdefaults": {
           "arrowcolor": "#2a3f5f",
           "arrowhead": 0,
           "arrowwidth": 1
          },
          "autotypenumbers": "strict",
          "coloraxis": {
           "colorbar": {
            "outlinewidth": 0,
            "ticks": ""
           }
          },
          "colorscale": {
           "diverging": [
            [
             0,
             "#8e0152"
            ],
            [
             0.1,
             "#c51b7d"
            ],
            [
             0.2,
             "#de77ae"
            ],
            [
             0.3,
             "#f1b6da"
            ],
            [
             0.4,
             "#fde0ef"
            ],
            [
             0.5,
             "#f7f7f7"
            ],
            [
             0.6,
             "#e6f5d0"
            ],
            [
             0.7,
             "#b8e186"
            ],
            [
             0.8,
             "#7fbc41"
            ],
            [
             0.9,
             "#4d9221"
            ],
            [
             1,
             "#276419"
            ]
           ],
           "sequential": [
            [
             0,
             "#0d0887"
            ],
            [
             0.1111111111111111,
             "#46039f"
            ],
            [
             0.2222222222222222,
             "#7201a8"
            ],
            [
             0.3333333333333333,
             "#9c179e"
            ],
            [
             0.4444444444444444,
             "#bd3786"
            ],
            [
             0.5555555555555556,
             "#d8576b"
            ],
            [
             0.6666666666666666,
             "#ed7953"
            ],
            [
             0.7777777777777778,
             "#fb9f3a"
            ],
            [
             0.8888888888888888,
             "#fdca26"
            ],
            [
             1,
             "#f0f921"
            ]
           ],
           "sequentialminus": [
            [
             0,
             "#0d0887"
            ],
            [
             0.1111111111111111,
             "#46039f"
            ],
            [
             0.2222222222222222,
             "#7201a8"
            ],
            [
             0.3333333333333333,
             "#9c179e"
            ],
            [
             0.4444444444444444,
             "#bd3786"
            ],
            [
             0.5555555555555556,
             "#d8576b"
            ],
            [
             0.6666666666666666,
             "#ed7953"
            ],
            [
             0.7777777777777778,
             "#fb9f3a"
            ],
            [
             0.8888888888888888,
             "#fdca26"
            ],
            [
             1,
             "#f0f921"
            ]
           ]
          },
          "colorway": [
           "#636efa",
           "#EF553B",
           "#00cc96",
           "#ab63fa",
           "#FFA15A",
           "#19d3f3",
           "#FF6692",
           "#B6E880",
           "#FF97FF",
           "#FECB52"
          ],
          "font": {
           "color": "#2a3f5f"
          },
          "geo": {
           "bgcolor": "white",
           "lakecolor": "white",
           "landcolor": "#E5ECF6",
           "showlakes": true,
           "showland": true,
           "subunitcolor": "white"
          },
          "hoverlabel": {
           "align": "left"
          },
          "hovermode": "closest",
          "mapbox": {
           "style": "light"
          },
          "paper_bgcolor": "white",
          "plot_bgcolor": "#E5ECF6",
          "polar": {
           "angularaxis": {
            "gridcolor": "white",
            "linecolor": "white",
            "ticks": ""
           },
           "bgcolor": "#E5ECF6",
           "radialaxis": {
            "gridcolor": "white",
            "linecolor": "white",
            "ticks": ""
           }
          },
          "scene": {
           "xaxis": {
            "backgroundcolor": "#E5ECF6",
            "gridcolor": "white",
            "gridwidth": 2,
            "linecolor": "white",
            "showbackground": true,
            "ticks": "",
            "zerolinecolor": "white"
           },
           "yaxis": {
            "backgroundcolor": "#E5ECF6",
            "gridcolor": "white",
            "gridwidth": 2,
            "linecolor": "white",
            "showbackground": true,
            "ticks": "",
            "zerolinecolor": "white"
           },
           "zaxis": {
            "backgroundcolor": "#E5ECF6",
            "gridcolor": "white",
            "gridwidth": 2,
            "linecolor": "white",
            "showbackground": true,
            "ticks": "",
            "zerolinecolor": "white"
           }
          },
          "shapedefaults": {
           "line": {
            "color": "#2a3f5f"
           }
          },
          "ternary": {
           "aaxis": {
            "gridcolor": "white",
            "linecolor": "white",
            "ticks": ""
           },
           "baxis": {
            "gridcolor": "white",
            "linecolor": "white",
            "ticks": ""
           },
           "bgcolor": "#E5ECF6",
           "caxis": {
            "gridcolor": "white",
            "linecolor": "white",
            "ticks": ""
           }
          },
          "title": {
           "x": 0.05
          },
          "xaxis": {
           "automargin": true,
           "gridcolor": "white",
           "linecolor": "white",
           "ticks": "",
           "title": {
            "standoff": 15
           },
           "zerolinecolor": "white",
           "zerolinewidth": 2
          },
          "yaxis": {
           "automargin": true,
           "gridcolor": "white",
           "linecolor": "white",
           "ticks": "",
           "title": {
            "standoff": 15
           },
           "zerolinecolor": "white",
           "zerolinewidth": 2
          }
         }
        },
        "title": {
         "text": "Headlines per top media"
        },
        "xaxis": {
         "anchor": "y",
         "categoryarray": [
          "uk.news.yahoo.com",
          "Reuters",
          "IBTimes",
          "Wikipedia",
          "myfoxspokane.com",
          "financialpost.com",
          "uk.reuters.com",
          "US News & World Report ",
          "Google ニュース",
          "News and Java"
         ],
         "categoryorder": "array",
         "domain": [
          0,
          1
         ],
         "title": {
          "text": "media_name"
         }
        },
        "yaxis": {
         "anchor": "x",
         "domain": [
          0,
          1
         ],
         "title": {
          "text": "title"
         }
        }
       }
      }
     },
     "metadata": {},
     "output_type": "display_data"
    }
   ],
   "source": [
    "# Top sources of media coverage\n",
    "\n",
    "df_media = df.groupby(\"media_name\")[\"title\"].count().reset_index()\n",
    "\n",
    "df_media = df_media.sort_values(\"title\", ascending=False).reset_index().head(10)\n",
    "\n",
    "fig = px.bar(df_media, x=\"media_name\", y=\"title\", color=\"media_name\", title=\"Headlines per top media\")\n",
    "\n",
    "fig.show()"
   ]
  },
  {
   "cell_type": "code",
   "execution_count": 30,
   "metadata": {},
   "outputs": [
    {
     "data": {
      "image/png": "[encoded data removed]",
      "text/plain": [
       "<Figure size 3000x1500 with 5 Axes>"
      ]
     },
     "metadata": {},
     "output_type": "display_data"
    }
   ],
   "source": [
    "# Describing the topic model\n",
    "\n",
    "def plot_top_words(model, feature_names, n_top_words, title):\n",
    "    n_components = model.n_components_\n",
    "    fig, axes = plt.subplots(n_components//5,5, figsize=(30, 15), sharex=True)\n",
    "    axes = axes.flatten()\n",
    "    t_titles = []\n",
    "    for topic_idx, topic in enumerate(model.components_):\n",
    "        top_features_ind = topic.argsort()[: -n_top_words - 1 : -1]\n",
    "        top_features = [feature_names[i] for i in top_features_ind]\n",
    "        weights = topic[top_features_ind]\n",
    "\n",
    "        ax = axes[topic_idx]\n",
    "        ax.barh(top_features, weights, height=0.7)\n",
    "        ax.set_title(f\"{topics[topic_idx]}\", fontdict={\"fontsize\": 30})\n",
    "        ax.invert_yaxis()\n",
    "        ax.tick_params(axis=\"both\", which=\"major\", labelsize=20)\n",
    "        for i in \"top right left\".split():\n",
    "            ax.spines[i].set_visible(False)\n",
    "        fig.suptitle(title, fontsize=40)\n",
    "        \n",
    "        t_titles.append(\", \".join(top_features[:3]))\n",
    "\n",
    "    plt.subplots_adjust(top=0.90, bottom=0.05, wspace=0.90, hspace=0.3)\n",
    "    plt.show()\n",
    "    \n",
    "    return t_titles\n",
    "\n",
    "t_titles = plot_top_words(nmf, vec.get_feature_names_out(), 5, \"Topics of international media coverage during the 2018 and 2022 Brazilian elections\")"
   ]
  },
  {
   "cell_type": "code",
   "execution_count": 31,
   "metadata": {},
   "outputs": [
    {
     "data": {
      "image/png": "[encoded data removed]",
      "text/plain": [
       "<Figure size 640x480 with 1 Axes>"
      ]
     },
     "metadata": {},
     "output_type": "display_data"
    }
   ],
   "source": [
    "# Top words per topic\n",
    "\n",
    "total_sums = W.sum(axis=0)\n",
    "fig, ax = plt.subplots()\n",
    "\n",
    "df_W = pd.DataFrame(W)\n",
    "df_W.columns = t_titles\n",
    "df_W.sum(axis=0).sort_values().plot.barh()\n",
    "\n",
    "plt.savefig('/Users/annadeniz/Downloads/topics_words.png')"
   ]
  },
  {
   "cell_type": "code",
   "execution_count": 32,
   "metadata": {},
   "outputs": [
    {
     "name": "stderr",
     "output_type": "stream",
     "text": [
      "/var/folders/f9/cf4t4cbj1cb9c4pbm68p5czw0000gn/T/ipykernel_70195/464773636.py:7: FutureWarning:\n",
      "\n",
      "The default value of numeric_only in DataFrameGroupBy.mean is deprecated. In a future version, numeric_only will default to False. Either specify numeric_only or select only columns which should be valid for the function.\n",
      "\n"
     ]
    },
    {
     "data": {
      "application/vnd.plotly.v1+json": {
       "config": {
        "plotlyServerURL": "https://plot.ly"
       },
       "data": [
        {
         "alignmentgroup": "True",
         "hovertemplate": "year=2018<br>topic=%{x}<br>share=%{y}<extra></extra>",
         "legendgroup": "2018",
         "marker": {
          "color": "#636efa",
          "pattern": {
           "shape": ""
          }
         },
         "name": "2018",
         "offsetgroup": "2018",
         "orientation": "v",
         "showlegend": true,
         "textposition": "auto",
         "type": "bar",
         "x": [
          "Far right",
          "Donald Trump",
          "Emerging stock markets",
          "Election results",
          "World climate"
         ],
         "xaxis": "x",
         "y": [
          0.07821314067476581,
          0.05099823223024918,
          0.043316662169273074,
          0.007384128070935241,
          0.03818088979112096
         ],
         "yaxis": "y"
        },
        {
         "alignmentgroup": "True",
         "hovertemplate": "year=2022<br>topic=%{x}<br>share=%{y}<extra></extra>",
         "legendgroup": "2022",
         "marker": {
          "color": "#EF553B",
          "pattern": {
           "shape": ""
          }
         },
         "name": "2022",
         "offsetgroup": "2022",
         "orientation": "v",
         "showlegend": true,
         "textposition": "auto",
         "type": "bar",
         "x": [
          "Far right",
          "Donald Trump",
          "Emerging stock markets",
          "Election results",
          "World climate"
         ],
         "xaxis": "x2",
         "y": [
          0.06809859994251492,
          0.04972650208344508,
          0.047518746414451474,
          0.03900111852935978,
          0.04725514341537635
         ],
         "yaxis": "y2"
        }
       ],
       "layout": {
        "annotations": [
         {
          "font": {},
          "showarrow": false,
          "text": "year=2018",
          "x": 0.245,
          "xanchor": "center",
          "xref": "paper",
          "y": 1,
          "yanchor": "bottom",
          "yref": "paper"
         },
         {
          "font": {},
          "showarrow": false,
          "text": "year=2022",
          "x": 0.755,
          "xanchor": "center",
          "xref": "paper",
          "y": 1,
          "yanchor": "bottom",
          "yref": "paper"
         }
        ],
        "barmode": "group",
        "height": 800,
        "legend": {
         "title": {
          "text": "year"
         },
         "tracegroupgap": 0
        },
        "template": {
         "data": {
          "bar": [
           {
            "error_x": {
             "color": "#2a3f5f"
            },
            "error_y": {
             "color": "#2a3f5f"
            },
            "marker": {
             "line": {
              "color": "#E5ECF6",
              "width": 0.5
             },
             "pattern": {
              "fillmode": "overlay",
              "size": 10,
              "solidity": 0.2
             }
            },
            "type": "bar"
           }
          ],
          "barpolar": [
           {
            "marker": {
             "line": {
              "color": "#E5ECF6",
              "width": 0.5
             },
             "pattern": {
              "fillmode": "overlay",
              "size": 10,
              "solidity": 0.2
             }
            },
            "type": "barpolar"
           }
          ],
          "carpet": [
           {
            "aaxis": {
             "endlinecolor": "#2a3f5f",
             "gridcolor": "white",
             "linecolor": "white",
             "minorgridcolor": "white",
             "startlinecolor": "#2a3f5f"
            },
            "baxis": {
             "endlinecolor": "#2a3f5f",
             "gridcolor": "white",
             "linecolor": "white",
             "minorgridcolor": "white",
             "startlinecolor": "#2a3f5f"
            },
            "type": "carpet"
           }
          ],
          "choropleth": [
           {
            "colorbar": {
             "outlinewidth": 0,
             "ticks": ""
            },
            "type": "choropleth"
           }
          ],
          "contour": [
           {
            "colorbar": {
             "outlinewidth": 0,
             "ticks": ""
            },
            "colorscale": [
             [
              0,
              "#0d0887"
             ],
             [
              0.1111111111111111,
              "#46039f"
             ],
             [
              0.2222222222222222,
              "#7201a8"
             ],
             [
              0.3333333333333333,
              "#9c179e"
             ],
             [
              0.4444444444444444,
              "#bd3786"
             ],
             [
              0.5555555555555556,
              "#d8576b"
             ],
             [
              0.6666666666666666,
              "#ed7953"
             ],
             [
              0.7777777777777778,
              "#fb9f3a"
             ],
             [
              0.8888888888888888,
              "#fdca26"
             ],
             [
              1,
              "#f0f921"
             ]
            ],
            "type": "contour"
           }
          ],
          "contourcarpet": [
           {
            "colorbar": {
             "outlinewidth": 0,
             "ticks": ""
            },
            "type": "contourcarpet"
           }
          ],
          "heatmap": [
           {
            "colorbar": {
             "outlinewidth": 0,
             "ticks": ""
            },
            "colorscale": [
             [
              0,
              "#0d0887"
             ],
             [
              0.1111111111111111,
              "#46039f"
             ],
             [
              0.2222222222222222,
              "#7201a8"
             ],
             [
              0.3333333333333333,
              "#9c179e"
             ],
             [
              0.4444444444444444,
              "#bd3786"
             ],
             [
              0.5555555555555556,
              "#d8576b"
             ],
             [
              0.6666666666666666,
              "#ed7953"
             ],
             [
              0.7777777777777778,
              "#fb9f3a"
             ],
             [
              0.8888888888888888,
              "#fdca26"
             ],
             [
              1,
              "#f0f921"
             ]
            ],
            "type": "heatmap"
           }
          ],
          "heatmapgl": [
           {
            "colorbar": {
             "outlinewidth": 0,
             "ticks": ""
            },
            "colorscale": [
             [
              0,
              "#0d0887"
             ],
             [
              0.1111111111111111,
              "#46039f"
             ],
             [
              0.2222222222222222,
              "#7201a8"
             ],
             [
              0.3333333333333333,
              "#9c179e"
             ],
             [
              0.4444444444444444,
              "#bd3786"
             ],
             [
              0.5555555555555556,
              "#d8576b"
             ],
             [
              0.6666666666666666,
              "#ed7953"
             ],
             [
              0.7777777777777778,
              "#fb9f3a"
             ],
             [
              0.8888888888888888,
              "#fdca26"
             ],
             [
              1,
              "#f0f921"
             ]
            ],
            "type": "heatmapgl"
           }
          ],
          "histogram": [
           {
            "marker": {
             "pattern": {
              "fillmode": "overlay",
              "size": 10,
              "solidity": 0.2
             }
            },
            "type": "histogram"
           }
          ],
          "histogram2d": [
           {
            "colorbar": {
             "outlinewidth": 0,
             "ticks": ""
            },
            "colorscale": [
             [
              0,
              "#0d0887"
             ],
             [
              0.1111111111111111,
              "#46039f"
             ],
             [
              0.2222222222222222,
              "#7201a8"
             ],
             [
              0.3333333333333333,
              "#9c179e"
             ],
             [
              0.4444444444444444,
              "#bd3786"
             ],
             [
              0.5555555555555556,
              "#d8576b"
             ],
             [
              0.6666666666666666,
              "#ed7953"
             ],
             [
              0.7777777777777778,
              "#fb9f3a"
             ],
             [
              0.8888888888888888,
              "#fdca26"
             ],
             [
              1,
              "#f0f921"
             ]
            ],
            "type": "histogram2d"
           }
          ],
          "histogram2dcontour": [
           {
            "colorbar": {
             "outlinewidth": 0,
             "ticks": ""
            },
            "colorscale": [
             [
              0,
              "#0d0887"
             ],
             [
              0.1111111111111111,
              "#46039f"
             ],
             [
              0.2222222222222222,
              "#7201a8"
             ],
             [
              0.3333333333333333,
              "#9c179e"
             ],
             [
              0.4444444444444444,
              "#bd3786"
             ],
             [
              0.5555555555555556,
              "#d8576b"
             ],
             [
              0.6666666666666666,
              "#ed7953"
             ],
             [
              0.7777777777777778,
              "#fb9f3a"
             ],
             [
              0.8888888888888888,
              "#fdca26"
             ],
             [
              1,
              "#f0f921"
             ]
            ],
            "type": "histogram2dcontour"
           }
          ],
          "mesh3d": [
           {
            "colorbar": {
             "outlinewidth": 0,
             "ticks": ""
            },
            "type": "mesh3d"
           }
          ],
          "parcoords": [
           {
            "line": {
             "colorbar": {
              "outlinewidth": 0,
              "ticks": ""
             }
            },
            "type": "parcoords"
           }
          ],
          "pie": [
           {
            "automargin": true,
            "type": "pie"
           }
          ],
          "scatter": [
           {
            "fillpattern": {
             "fillmode": "overlay",
             "size": 10,
             "solidity": 0.2
            },
            "type": "scatter"
           }
          ],
          "scatter3d": [
           {
            "line": {
             "colorbar": {
              "outlinewidth": 0,
              "ticks": ""
             }
            },
            "marker": {
             "colorbar": {
              "outlinewidth": 0,
              "ticks": ""
             }
            },
            "type": "scatter3d"
           }
          ],
          "scattercarpet": [
           {
            "marker": {
             "colorbar": {
              "outlinewidth": 0,
              "ticks": ""
             }
            },
            "type": "scattercarpet"
           }
          ],
          "scattergeo": [
           {
            "marker": {
             "colorbar": {
              "outlinewidth": 0,
              "ticks": ""
             }
            },
            "type": "scattergeo"
           }
          ],
          "scattergl": [
           {
            "marker": {
             "colorbar": {
              "outlinewidth": 0,
              "ticks": ""
             }
            },
            "type": "scattergl"
           }
          ],
          "scattermapbox": [
           {
            "marker": {
             "colorbar": {
              "outlinewidth": 0,
              "ticks": ""
             }
            },
            "type": "scattermapbox"
           }
          ],
          "scatterpolar": [
           {
            "marker": {
             "colorbar": {
              "outlinewidth": 0,
              "ticks": ""
             }
            },
            "type": "scatterpolar"
           }
          ],
          "scatterpolargl": [
           {
            "marker": {
             "colorbar": {
              "outlinewidth": 0,
              "ticks": ""
             }
            },
            "type": "scatterpolargl"
           }
          ],
          "scatterternary": [
           {
            "marker": {
             "colorbar": {
              "outlinewidth": 0,
              "ticks": ""
             }
            },
            "type": "scatterternary"
           }
          ],
          "surface": [
           {
            "colorbar": {
             "outlinewidth": 0,
             "ticks": ""
            },
            "colorscale": [
             [
              0,
              "#0d0887"
             ],
             [
              0.1111111111111111,
              "#46039f"
             ],
             [
              0.2222222222222222,
              "#7201a8"
             ],
             [
              0.3333333333333333,
              "#9c179e"
             ],
             [
              0.4444444444444444,
              "#bd3786"
             ],
             [
              0.5555555555555556,
              "#d8576b"
             ],
             [
              0.6666666666666666,
              "#ed7953"
             ],
             [
              0.7777777777777778,
              "#fb9f3a"
             ],
             [
              0.8888888888888888,
              "#fdca26"
             ],
             [
              1,
              "#f0f921"
             ]
            ],
            "type": "surface"
           }
          ],
          "table": [
           {
            "cells": {
             "fill": {
              "color": "#EBF0F8"
             },
             "line": {
              "color": "white"
             }
            },
            "header": {
             "fill": {
              "color": "#C8D4E3"
             },
             "line": {
              "color": "white"
             }
            },
            "type": "table"
           }
          ]
         },
         "layout": {
          "annotationdefaults": {
           "arrowcolor": "#2a3f5f",
           "arrowhead": 0,
           "arrowwidth": 1
          },
          "autotypenumbers": "strict",
          "coloraxis": {
           "colorbar": {
            "outlinewidth": 0,
            "ticks": ""
           }
          },
          "colorscale": {
           "diverging": [
            [
             0,
             "#8e0152"
            ],
            [
             0.1,
             "#c51b7d"
            ],
            [
             0.2,
             "#de77ae"
            ],
            [
             0.3,
             "#f1b6da"
            ],
            [
             0.4,
             "#fde0ef"
            ],
            [
             0.5,
             "#f7f7f7"
            ],
            [
             0.6,
             "#e6f5d0"
            ],
            [
             0.7,
             "#b8e186"
            ],
            [
             0.8,
             "#7fbc41"
            ],
            [
             0.9,
             "#4d9221"
            ],
            [
             1,
             "#276419"
            ]
           ],
           "sequential": [
            [
             0,
             "#0d0887"
            ],
            [
             0.1111111111111111,
             "#46039f"
            ],
            [
             0.2222222222222222,
             "#7201a8"
            ],
            [
             0.3333333333333333,
             "#9c179e"
            ],
            [
             0.4444444444444444,
             "#bd3786"
            ],
            [
             0.5555555555555556,
             "#d8576b"
            ],
            [
             0.6666666666666666,
             "#ed7953"
            ],
            [
             0.7777777777777778,
             "#fb9f3a"
            ],
            [
             0.8888888888888888,
             "#fdca26"
            ],
            [
             1,
             "#f0f921"
            ]
           ],
           "sequentialminus": [
            [
             0,
             "#0d0887"
            ],
            [
             0.1111111111111111,
             "#46039f"
            ],
            [
             0.2222222222222222,
             "#7201a8"
            ],
            [
             0.3333333333333333,
             "#9c179e"
            ],
            [
             0.4444444444444444,
             "#bd3786"
            ],
            [
             0.5555555555555556,
             "#d8576b"
            ],
            [
             0.6666666666666666,
             "#ed7953"
            ],
            [
             0.7777777777777778,
             "#fb9f3a"
            ],
            [
             0.8888888888888888,
             "#fdca26"
            ],
            [
             1,
             "#f0f921"
            ]
           ]
          },
          "colorway": [
           "#636efa",
           "#EF553B",
           "#00cc96",
           "#ab63fa",
           "#FFA15A",
           "#19d3f3",
           "#FF6692",
           "#B6E880",
           "#FF97FF",
           "#FECB52"
          ],
          "font": {
           "color": "#2a3f5f"
          },
          "geo": {
           "bgcolor": "white",
           "lakecolor": "white",
           "landcolor": "#E5ECF6",
           "showlakes": true,
           "showland": true,
           "subunitcolor": "white"
          },
          "hoverlabel": {
           "align": "left"
          },
          "hovermode": "closest",
          "mapbox": {
           "style": "light"
          },
          "paper_bgcolor": "white",
          "plot_bgcolor": "#E5ECF6",
          "polar": {
           "angularaxis": {
            "gridcolor": "white",
            "linecolor": "white",
            "ticks": ""
           },
           "bgcolor": "#E5ECF6",
           "radialaxis": {
            "gridcolor": "white",
            "linecolor": "white",
            "ticks": ""
           }
          },
          "scene": {
           "xaxis": {
            "backgroundcolor": "#E5ECF6",
            "gridcolor": "white",
            "gridwidth": 2,
            "linecolor": "white",
            "showbackground": true,
            "ticks": "",
            "zerolinecolor": "white"
           },
           "yaxis": {
            "backgroundcolor": "#E5ECF6",
            "gridcolor": "white",
            "gridwidth": 2,
            "linecolor": "white",
            "showbackground": true,
            "ticks": "",
            "zerolinecolor": "white"
           },
           "zaxis": {
            "backgroundcolor": "#E5ECF6",
            "gridcolor": "white",
            "gridwidth": 2,
            "linecolor": "white",
            "showbackground": true,
            "ticks": "",
            "zerolinecolor": "white"
           }
          },
          "shapedefaults": {
           "line": {
            "color": "#2a3f5f"
           }
          },
          "ternary": {
           "aaxis": {
            "gridcolor": "white",
            "linecolor": "white",
            "ticks": ""
           },
           "baxis": {
            "gridcolor": "white",
            "linecolor": "white",
            "ticks": ""
           },
           "bgcolor": "#E5ECF6",
           "caxis": {
            "gridcolor": "white",
            "linecolor": "white",
            "ticks": ""
           }
          },
          "title": {
           "x": 0.05
          },
          "xaxis": {
           "automargin": true,
           "gridcolor": "white",
           "linecolor": "white",
           "ticks": "",
           "title": {
            "standoff": 15
           },
           "zerolinecolor": "white",
           "zerolinewidth": 2
          },
          "yaxis": {
           "automargin": true,
           "gridcolor": "white",
           "linecolor": "white",
           "ticks": "",
           "title": {
            "standoff": 15
           },
           "zerolinecolor": "white",
           "zerolinewidth": 2
          }
         }
        },
        "title": {
         "text": "Share of topics per election year"
        },
        "width": 1400,
        "xaxis": {
         "anchor": "y",
         "domain": [
          0,
          0.49
         ],
         "title": {
          "text": "topic"
         }
        },
        "xaxis2": {
         "anchor": "y2",
         "domain": [
          0.51,
          1
         ],
         "matches": "x",
         "title": {
          "text": "topic"
         }
        },
        "yaxis": {
         "anchor": "x",
         "domain": [
          0,
          1
         ],
         "title": {
          "text": "share"
         }
        },
        "yaxis2": {
         "anchor": "x2",
         "domain": [
          0,
          1
         ],
         "matches": "y",
         "showticklabels": false
        }
       }
      }
     },
     "metadata": {},
     "output_type": "display_data"
    }
   ],
   "source": [
    "# Compare presence of topics in 2018 and 2022\n",
    "\n",
    "import plotly\n",
    "\n",
    "topics_df_long=pd.melt(topics_df, id_vars=['title', 'year'], value_vars=[0,1,2,3,4])\n",
    "\n",
    "grouped_year_party=topics_df_long.groupby(['year','variable']).mean().reset_index()\n",
    "\n",
    "grouped_year_party=grouped_year_party.reset_index().rename(columns={\"variable\":\"topic\", \"value\": \"share\"})\n",
    "\n",
    "grouped_year_party=grouped_year_party.replace(topics)\n",
    "\n",
    "fig = px.bar(grouped_year_party, x=\"topic\", y=\"share\", color=\"year\",   facet_col=\"year\", barmode=\"group\",\n",
    "                labels=dict(variable=\"Share\", topics=\"Topics\"),\n",
    "                title=\"Share of topics per election year\",\n",
    "                width=1400, height=800)\n",
    "fig.show()"
   ]
  },
  {
   "cell_type": "code",
   "execution_count": 33,
   "metadata": {},
   "outputs": [
    {
     "data": {
      "text/plain": [
       "<matplotlib.legend.Legend at 0x2979231d0>"
      ]
     },
     "execution_count": 33,
     "metadata": {},
     "output_type": "execute_result"
    },
    {
     "data": {
      "image/png": "[encoded data removed]",
      "text/plain": [
       "<Figure size 640x480 with 1 Axes>"
      ]
     },
     "metadata": {},
     "output_type": "display_data"
    }
   ],
   "source": [
    "# Sentiment day by day in 2018\n",
    "\n",
    "sentiment_df[\"date\"] = pd.to_datetime(df.publish_date).dt.date\n",
    "daily_sentiment = (sentiment_df\n",
    "                   .groupby([\"date\",\"year\"])[\"compound\"]\n",
    "                   .mean()\n",
    "                   .reset_index()\n",
    "                   .pivot_table(columns=\"year\", values=\"compound\", index=\"date\")\n",
    "                   .reset_index()\n",
    "                  )\n",
    "\n",
    "daily_sentiment[\"date\"] = pd.to_datetime(daily_sentiment[\"date\"])\n",
    "days = pd.date_range(start=\"2018-10-01\",end=\"2018-11-20\")\n",
    "daily_sentiment = pd.DataFrame({\"date\": days}).merge(daily_sentiment, how=\"left\")\n",
    "\n",
    "fig, ax = plt.subplots()\n",
    "\n",
    "for year in [\"2018\"]:\n",
    "    ax.scatter(daily_sentiment.date, daily_sentiment[year], s=5, alpha=0.7)\n",
    "    x = daily_sentiment[year].rolling(7).mean()\n",
    "    ax.plot(daily_sentiment.date, x, label=year)\n",
    "\n",
    "fig.autofmt_xdate()\n",
    "ax.legend()"
   ]
  }
 ],
 "metadata": {
  "kernelspec": {
   "display_name": ".venv",
   "language": "python",
   "name": "python3"
  },
  "language_info": {
   "codemirror_mode": {
    "name": "ipython",
    "version": 3
   },
   "file_extension": ".py",
   "mimetype": "text/x-python",
   "name": "python",
   "nbconvert_exporter": "python",
   "pygments_lexer": "ipython3",
   "version": "3.11.2"
  },
  "orig_nbformat": 4
 },
 "nbformat": 4,
 "nbformat_minor": 2
}
